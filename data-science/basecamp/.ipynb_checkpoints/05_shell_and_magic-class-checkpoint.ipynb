{
 "cells": [
  {
   "cell_type": "markdown",
   "metadata": {},
   "source": [
    "# Using the shell from within IPython\n",
    "\n",
    "with `!`, we can send commands to the underlying operating system.  \n",
    "__IMPORTANT!! The shell where !command runs is immediately discarded after executing ‘command’.__\n"
   ]
  },
  {
   "cell_type": "code",
   "execution_count": 3,
   "metadata": {},
   "outputs": [
    {
     "name": "stdout",
     "output_type": "stream",
     "text": [
      "/home/dsc/python_class\r\n"
     ]
    }
   ],
   "source": [
    "! pwd"
   ]
  },
  {
   "cell_type": "code",
   "execution_count": 4,
   "metadata": {},
   "outputs": [
    {
     "name": "stdout",
     "output_type": "stream",
     "text": [
      "sáb oct 26 12:57:59 CEST 2019\r\n"
     ]
    }
   ],
   "source": [
    "! date"
   ]
  },
  {
   "cell_type": "code",
   "execution_count": 6,
   "metadata": {},
   "outputs": [
    {
     "name": "stdout",
     "output_type": "stream",
     "text": [
      "      9      74     595\r\n"
     ]
    }
   ],
   "source": [
    "! ls -l | wc"
   ]
  },
  {
   "cell_type": "code",
   "execution_count": 7,
   "metadata": {},
   "outputs": [
    {
     "name": "stdout",
     "output_type": "stream",
     "text": [
      "/bin/sh: 1: ll: not found\r\n"
     ]
    }
   ],
   "source": [
    "! ll"
   ]
  },
  {
   "cell_type": "code",
   "execution_count": 8,
   "metadata": {},
   "outputs": [
    {
     "name": "stdout",
     "output_type": "stream",
     "text": [
      "/home/dsc/python_class\r\n"
     ]
    }
   ],
   "source": [
    "!pwd"
   ]
  },
  {
   "cell_type": "code",
   "execution_count": 12,
   "metadata": {},
   "outputs": [
    {
     "name": "stdout",
     "output_type": "stream",
     "text": [
      "/home/dsc/python_class\r\n"
     ]
    }
   ],
   "source": [
    "! cd ..\n",
    "! pwd"
   ]
  },
  {
   "cell_type": "code",
   "execution_count": 10,
   "metadata": {},
   "outputs": [
    {
     "name": "stdout",
     "output_type": "stream",
     "text": [
      "/home/dsc/python_class\r\n"
     ]
    }
   ],
   "source": [
    "!pwd"
   ]
  },
  {
   "cell_type": "code",
   "execution_count": null,
   "metadata": {},
   "outputs": [],
   "source": []
  },
  {
   "cell_type": "markdown",
   "metadata": {},
   "source": [
    "#  Line and Cell magics\n",
    "\n",
    "\"Metacommands\" that allow us to interact with IPython.  \n",
    "__They are not Python! other interpreters will throw a SyntaxError if we use them in regular Python progrmas.__  \n",
    "They are intended only for interactive use."
   ]
  },
  {
   "cell_type": "markdown",
   "metadata": {},
   "source": [
    "IPython has a set of predefined ‘magic functions’  \n",
    "Line magics are prefixed with the %  \n",
    "Cell magics are prefixed with a double %%\n"
   ]
  },
  {
   "cell_type": "code",
   "execution_count": 13,
   "metadata": {},
   "outputs": [
    {
     "data": {
      "application/json": {
       "cell": {
        "!": "OSMagics",
        "HTML": "Other",
        "SVG": "Other",
        "bash": "Other",
        "capture": "ExecutionMagics",
        "debug": "ExecutionMagics",
        "file": "Other",
        "html": "DisplayMagics",
        "javascript": "DisplayMagics",
        "js": "DisplayMagics",
        "latex": "DisplayMagics",
        "markdown": "DisplayMagics",
        "perl": "Other",
        "prun": "ExecutionMagics",
        "pypy": "Other",
        "python": "Other",
        "python2": "Other",
        "python3": "Other",
        "ruby": "Other",
        "script": "ScriptMagics",
        "sh": "Other",
        "svg": "DisplayMagics",
        "sx": "OSMagics",
        "system": "OSMagics",
        "time": "ExecutionMagics",
        "timeit": "ExecutionMagics",
        "writefile": "OSMagics"
       },
       "line": {
        "alias": "OSMagics",
        "alias_magic": "BasicMagics",
        "autoawait": "AsyncMagics",
        "autocall": "AutoMagics",
        "automagic": "AutoMagics",
        "autosave": "KernelMagics",
        "bookmark": "OSMagics",
        "cat": "Other",
        "cd": "OSMagics",
        "clear": "KernelMagics",
        "colors": "BasicMagics",
        "config": "ConfigMagics",
        "connect_info": "KernelMagics",
        "cp": "Other",
        "debug": "ExecutionMagics",
        "dhist": "OSMagics",
        "dirs": "OSMagics",
        "doctest_mode": "BasicMagics",
        "ed": "Other",
        "edit": "KernelMagics",
        "env": "OSMagics",
        "gui": "BasicMagics",
        "hist": "Other",
        "history": "HistoryMagics",
        "killbgscripts": "ScriptMagics",
        "ldir": "Other",
        "less": "KernelMagics",
        "lf": "Other",
        "lk": "Other",
        "ll": "Other",
        "load": "CodeMagics",
        "load_ext": "ExtensionMagics",
        "loadpy": "CodeMagics",
        "logoff": "LoggingMagics",
        "logon": "LoggingMagics",
        "logstart": "LoggingMagics",
        "logstate": "LoggingMagics",
        "logstop": "LoggingMagics",
        "ls": "Other",
        "lsmagic": "BasicMagics",
        "lx": "Other",
        "macro": "ExecutionMagics",
        "magic": "BasicMagics",
        "man": "KernelMagics",
        "matplotlib": "PylabMagics",
        "mkdir": "Other",
        "more": "KernelMagics",
        "mv": "Other",
        "notebook": "BasicMagics",
        "page": "BasicMagics",
        "pastebin": "CodeMagics",
        "pdb": "ExecutionMagics",
        "pdef": "NamespaceMagics",
        "pdoc": "NamespaceMagics",
        "pfile": "NamespaceMagics",
        "pinfo": "NamespaceMagics",
        "pinfo2": "NamespaceMagics",
        "pip": "BasicMagics",
        "popd": "OSMagics",
        "pprint": "BasicMagics",
        "precision": "BasicMagics",
        "prun": "ExecutionMagics",
        "psearch": "NamespaceMagics",
        "psource": "NamespaceMagics",
        "pushd": "OSMagics",
        "pwd": "OSMagics",
        "pycat": "OSMagics",
        "pylab": "PylabMagics",
        "qtconsole": "KernelMagics",
        "quickref": "BasicMagics",
        "recall": "HistoryMagics",
        "rehashx": "OSMagics",
        "reload_ext": "ExtensionMagics",
        "rep": "Other",
        "rerun": "HistoryMagics",
        "reset": "NamespaceMagics",
        "reset_selective": "NamespaceMagics",
        "rm": "Other",
        "rmdir": "Other",
        "run": "ExecutionMagics",
        "save": "CodeMagics",
        "sc": "OSMagics",
        "set_env": "OSMagics",
        "store": "StoreMagics",
        "sx": "OSMagics",
        "system": "OSMagics",
        "tb": "ExecutionMagics",
        "time": "ExecutionMagics",
        "timeit": "ExecutionMagics",
        "unalias": "OSMagics",
        "unload_ext": "ExtensionMagics",
        "who": "NamespaceMagics",
        "who_ls": "NamespaceMagics",
        "whos": "NamespaceMagics",
        "xdel": "NamespaceMagics",
        "xmode": "BasicMagics"
       }
      },
      "text/plain": [
       "Available line magics:\n",
       "%alias  %alias_magic  %autoawait  %autocall  %automagic  %autosave  %bookmark  %cat  %cd  %clear  %colors  %config  %connect_info  %cp  %debug  %dhist  %dirs  %doctest_mode  %ed  %edit  %env  %gui  %hist  %history  %killbgscripts  %ldir  %less  %lf  %lk  %ll  %load  %load_ext  %loadpy  %logoff  %logon  %logstart  %logstate  %logstop  %ls  %lsmagic  %lx  %macro  %magic  %man  %matplotlib  %mkdir  %more  %mv  %notebook  %page  %pastebin  %pdb  %pdef  %pdoc  %pfile  %pinfo  %pinfo2  %popd  %pprint  %precision  %prun  %psearch  %psource  %pushd  %pwd  %pycat  %pylab  %qtconsole  %quickref  %recall  %rehashx  %reload_ext  %rep  %rerun  %reset  %reset_selective  %rm  %rmdir  %run  %save  %sc  %set_env  %store  %sx  %system  %tb  %time  %timeit  %unalias  %unload_ext  %who  %who_ls  %whos  %xdel  %xmode\n",
       "\n",
       "Available cell magics:\n",
       "%%!  %%HTML  %%SVG  %%bash  %%capture  %%debug  %%file  %%html  %%javascript  %%js  %%latex  %%markdown  %%perl  %%prun  %%pypy  %%python  %%python2  %%python3  %%ruby  %%script  %%sh  %%svg  %%sx  %%system  %%time  %%timeit  %%writefile\n",
       "\n",
       "Automagic is ON, % prefix IS NOT needed for line magics."
      ]
     },
     "execution_count": 13,
     "metadata": {},
     "output_type": "execute_result"
    }
   ],
   "source": [
    "%lsmagic"
   ]
  },
  {
   "cell_type": "markdown",
   "metadata": {},
   "source": [
    "---------------"
   ]
  },
  {
   "cell_type": "code",
   "execution_count": 14,
   "metadata": {},
   "outputs": [
    {
     "name": "stdout",
     "output_type": "stream",
     "text": [
      "\n",
      "Automagic is OFF, % prefix IS needed for line magics.\n"
     ]
    }
   ],
   "source": [
    "%automagic"
   ]
  },
  {
   "cell_type": "code",
   "execution_count": 15,
   "metadata": {},
   "outputs": [
    {
     "data": {
      "text/plain": [
       "'/home/dsc/python_class'"
      ]
     },
     "execution_count": 15,
     "metadata": {},
     "output_type": "execute_result"
    }
   ],
   "source": [
    "%pwd"
   ]
  },
  {
   "cell_type": "code",
   "execution_count": 16,
   "metadata": {},
   "outputs": [
    {
     "name": "stdout",
     "output_type": "stream",
     "text": [
      "/home/dsc\n"
     ]
    }
   ],
   "source": [
    "%cd .."
   ]
  },
  {
   "cell_type": "code",
   "execution_count": 17,
   "metadata": {
    "collapsed": true
   },
   "outputs": [
    {
     "name": "stdout",
     "output_type": "stream",
     "text": [
      "total 188\r\n",
      "-rw-rw-r--  1 dsc  5793 abr 27 14:01  2018-04-27.txt\r\n",
      "-rw-rw-r--  1 dsc 16505 may 11 23:21  2019-05-11.txt\r\n",
      "-rw-rw-r--  1 dsc 25821 oct 19 13:58  20191019.txt\r\n",
      "-rw-rw-r--  1 dsc 35994 oct 25 22:17  20191025.txt\r\n",
      "drwxrwxr-x 26 dsc  4096 abr  1  2019  \u001b[0m\u001b[01;34manaconda3\u001b[0m/\r\n",
      "drwxrwxr-x  9 dsc  4096 oct 25 20:58  \u001b[01;34mData\u001b[0m/\r\n",
      "drwxr-xr-x  2 dsc  4096 may 10 15:38  \u001b[01;34mDesktop\u001b[0m/\r\n",
      "drwxrwxr-x  5 dsc  4096 oct 19 11:03  \u001b[01;34mDIRECTORY\u001b[0m/\r\n",
      "drwxr-xr-x  2 dsc  4096 mar 28  2019  \u001b[01;34mDocuments\u001b[0m/\r\n",
      "drwxr-xr-x  2 dsc  4096 oct 25 13:51  \u001b[01;34mDownloads\u001b[0m/\r\n",
      "drwxrwxr-x  5 dsc  4096 oct 18 13:40  \u001b[01;34mDS_CL_files\u001b[0m/\r\n",
      "-rw-rw-r--  1 dsc    31 oct 19 10:53  example_unique.txt\r\n",
      "drwxrwxr-x  5 dsc  4096 oct 19 11:35  \u001b[01;34mfirst_dir\u001b[0m/\r\n",
      "drwxr-xr-x  2 dsc  4096 mar 28  2019  \u001b[01;34mMusic\u001b[0m/\r\n",
      "drwxrwxr-x  2 dsc  4096 may 10 21:39  \u001b[01;34mmy_scripts\u001b[0m/\r\n",
      "drwxr-xr-x  3 dsc  4096 jun  7 17:15  \u001b[01;34mPictures\u001b[0m/\r\n",
      "drwxrwxr-x  2 dsc  4096 oct 25 21:45  \u001b[01;34mprivate_scripts\u001b[0m/\r\n",
      "drwxr-xr-x  2 dsc  4096 mar 28  2019  \u001b[01;34mPublic\u001b[0m/\r\n",
      "drwxrwxr-x  3 dsc  4096 oct 26 13:03  \u001b[01;34mpython_class\u001b[0m/\r\n",
      "drwxrwxr-x  4 dsc  4096 may 17 21:58  \u001b[01;34mpython_class_v16\u001b[0m/\r\n",
      "drwxrwxr-x  4 dsc  4096 oct 25 13:53  \u001b[01;34mpython_class_v18\u001b[0m/\r\n",
      "drwxrwxr-x  5 dsc  4096 oct 19 10:07  \u001b[01;34mRepos\u001b[0m/\r\n",
      "drwxrwxr-x  6 dsc  4096 abr 27 11:06  \u001b[01;34msabado\u001b[0m/\r\n",
      "drwxr-xr-x  2 dsc  4096 mar 28  2019  \u001b[01;34mTemplates\u001b[0m/\r\n",
      "-rwxrwxrwx  1 dsc     0 abr 27 10:40  \u001b[01;32mtest_file\u001b[0m*\r\n",
      "-rw-rw-r--  1 dsc    60 oct 25 17:10  uniq_example.txt\r\n",
      "drwxrwxr-x  2 dsc  4096 may 11 10:03 \u001b[01;34m'Untitled Folder'\u001b[0m/\r\n",
      "drwxr-xr-x  2 dsc  4096 mar 28  2019  \u001b[01;34mVideos\u001b[0m/\r\n",
      "drwxrwxr-x  3 dsc  4096 abr  1  2019  \u001b[01;34mvm-config-master\u001b[0m/\r\n"
     ]
    }
   ],
   "source": [
    "%ll"
   ]
  },
  {
   "cell_type": "code",
   "execution_count": 20,
   "metadata": {
    "scrolled": true
   },
   "outputs": [
    {
     "data": {
      "text/plain": [
       "['/home/dsc',\n",
       " 'total 4',\n",
       " 'drwxr-xr-x 39 dsc dsc 4096 oct 26 09:59 dsc',\n",
       " '/home']"
      ]
     },
     "execution_count": 20,
     "metadata": {},
     "output_type": "execute_result"
    }
   ],
   "source": [
    "%%!\n",
    "pwd\n",
    "cd ..\n",
    "ls -l\n",
    "pwd\n"
   ]
  },
  {
   "cell_type": "code",
   "execution_count": 21,
   "metadata": {},
   "outputs": [
    {
     "name": "stdout",
     "output_type": "stream",
     "text": [
      "/home/dsc\n",
      "total 4\n",
      "drwxr-xr-x 39 dsc dsc 4096 oct 26 09:59 dsc\n",
      "/home\n"
     ]
    }
   ],
   "source": [
    "%%bash\n",
    "pwd\n",
    "cd ..\n",
    "ls -l\n",
    "pwd"
   ]
  },
  {
   "cell_type": "code",
   "execution_count": null,
   "metadata": {},
   "outputs": [],
   "source": []
  },
  {
   "cell_type": "code",
   "execution_count": null,
   "metadata": {},
   "outputs": [],
   "source": []
  },
  {
   "cell_type": "markdown",
   "metadata": {},
   "source": [
    "# Capturing the output of shell commands"
   ]
  },
  {
   "cell_type": "code",
   "execution_count": 24,
   "metadata": {},
   "outputs": [],
   "source": [
    "a =! ls -l"
   ]
  },
  {
   "cell_type": "code",
   "execution_count": 25,
   "metadata": {},
   "outputs": [
    {
     "data": {
      "text/plain": [
       "['total 188',\n",
       " '-rw-rw-r--  1 dsc dsc  5793 abr 27 14:01 2018-04-27.txt',\n",
       " '-rw-rw-r--  1 dsc dsc 16505 may 11 23:21 2019-05-11.txt',\n",
       " '-rw-rw-r--  1 dsc dsc 25821 oct 19 13:58 20191019.txt',\n",
       " '-rw-rw-r--  1 dsc dsc 35994 oct 25 22:17 20191025.txt',\n",
       " 'drwxrwxr-x 26 dsc dsc  4096 abr  1  2019 anaconda3',\n",
       " 'drwxrwxr-x  9 dsc dsc  4096 oct 25 20:58 Data',\n",
       " 'drwxr-xr-x  2 dsc dsc  4096 may 10 15:38 Desktop',\n",
       " 'drwxrwxr-x  5 dsc dsc  4096 oct 19 11:03 DIRECTORY',\n",
       " 'drwxr-xr-x  2 dsc dsc  4096 mar 28  2019 Documents',\n",
       " 'drwxr-xr-x  2 dsc dsc  4096 oct 25 13:51 Downloads',\n",
       " 'drwxrwxr-x  5 dsc dsc  4096 oct 18 13:40 DS_CL_files',\n",
       " '-rw-rw-r--  1 dsc dsc    31 oct 19 10:53 example_unique.txt',\n",
       " 'drwxrwxr-x  5 dsc dsc  4096 oct 19 11:35 first_dir',\n",
       " 'drwxr-xr-x  2 dsc dsc  4096 mar 28  2019 Music',\n",
       " 'drwxrwxr-x  2 dsc dsc  4096 may 10 21:39 my_scripts',\n",
       " 'drwxr-xr-x  3 dsc dsc  4096 jun  7 17:15 Pictures',\n",
       " 'drwxrwxr-x  2 dsc dsc  4096 oct 25 21:45 private_scripts',\n",
       " 'drwxr-xr-x  2 dsc dsc  4096 mar 28  2019 Public',\n",
       " 'drwxrwxr-x  3 dsc dsc  4096 oct 26 13:05 python_class',\n",
       " 'drwxrwxr-x  4 dsc dsc  4096 may 17 21:58 python_class_v16',\n",
       " 'drwxrwxr-x  4 dsc dsc  4096 oct 25 13:53 python_class_v18',\n",
       " 'drwxrwxr-x  5 dsc dsc  4096 oct 19 10:07 Repos',\n",
       " 'drwxrwxr-x  6 dsc dsc  4096 abr 27 11:06 sabado',\n",
       " 'drwxr-xr-x  2 dsc dsc  4096 mar 28  2019 Templates',\n",
       " '-rwxrwxrwx  1 dsc dsc     0 abr 27 10:40 test_file',\n",
       " '-rw-rw-r--  1 dsc dsc    60 oct 25 17:10 uniq_example.txt',\n",
       " 'drwxrwxr-x  2 dsc dsc  4096 may 11 10:03 Untitled Folder',\n",
       " 'drwxr-xr-x  2 dsc dsc  4096 mar 28  2019 Videos',\n",
       " 'drwxrwxr-x  3 dsc dsc  4096 abr  1  2019 vm-config-master']"
      ]
     },
     "execution_count": 25,
     "metadata": {},
     "output_type": "execute_result"
    }
   ],
   "source": [
    "a"
   ]
  },
  {
   "cell_type": "code",
   "execution_count": 26,
   "metadata": {},
   "outputs": [
    {
     "data": {
      "text/plain": [
       "IPython.utils.text.SList"
      ]
     },
     "execution_count": 26,
     "metadata": {},
     "output_type": "execute_result"
    }
   ],
   "source": [
    "type(a)"
   ]
  },
  {
   "cell_type": "code",
   "execution_count": 29,
   "metadata": {},
   "outputs": [
    {
     "data": {
      "text/plain": [
       "'total 188'"
      ]
     },
     "execution_count": 29,
     "metadata": {},
     "output_type": "execute_result"
    }
   ],
   "source": [
    "a[0]"
   ]
  },
  {
   "cell_type": "code",
   "execution_count": 31,
   "metadata": {},
   "outputs": [
    {
     "data": {
      "text/plain": [
       "'total 188\\n-rw-rw-r--  1 dsc dsc  5793 abr 27 14:01 2018-04-27.txt\\n-rw-rw-r--  1 dsc dsc 16505 may 11 23:21 2019-05-11.txt\\n-rw-rw-r--  1 dsc dsc 25821 oct 19 13:58 20191019.txt\\n-rw-rw-r--  1 dsc dsc 35994 oct 25 22:17 20191025.txt\\ndrwxrwxr-x 26 dsc dsc  4096 abr  1  2019 anaconda3\\ndrwxrwxr-x  9 dsc dsc  4096 oct 25 20:58 Data\\ndrwxr-xr-x  2 dsc dsc  4096 may 10 15:38 Desktop\\ndrwxrwxr-x  5 dsc dsc  4096 oct 19 11:03 DIRECTORY\\ndrwxr-xr-x  2 dsc dsc  4096 mar 28  2019 Documents\\ndrwxr-xr-x  2 dsc dsc  4096 oct 25 13:51 Downloads\\ndrwxrwxr-x  5 dsc dsc  4096 oct 18 13:40 DS_CL_files\\n-rw-rw-r--  1 dsc dsc    31 oct 19 10:53 example_unique.txt\\ndrwxrwxr-x  5 dsc dsc  4096 oct 19 11:35 first_dir\\ndrwxr-xr-x  2 dsc dsc  4096 mar 28  2019 Music\\ndrwxrwxr-x  2 dsc dsc  4096 may 10 21:39 my_scripts\\ndrwxr-xr-x  3 dsc dsc  4096 jun  7 17:15 Pictures\\ndrwxrwxr-x  2 dsc dsc  4096 oct 25 21:45 private_scripts\\ndrwxr-xr-x  2 dsc dsc  4096 mar 28  2019 Public\\ndrwxrwxr-x  3 dsc dsc  4096 oct 26 13:05 python_class\\ndrwxrwxr-x  4 dsc dsc  4096 may 17 21:58 python_class_v16\\ndrwxrwxr-x  4 dsc dsc  4096 oct 25 13:53 python_class_v18\\ndrwxrwxr-x  5 dsc dsc  4096 oct 19 10:07 Repos\\ndrwxrwxr-x  6 dsc dsc  4096 abr 27 11:06 sabado\\ndrwxr-xr-x  2 dsc dsc  4096 mar 28  2019 Templates\\n-rwxrwxrwx  1 dsc dsc     0 abr 27 10:40 test_file\\n-rw-rw-r--  1 dsc dsc    60 oct 25 17:10 uniq_example.txt\\ndrwxrwxr-x  2 dsc dsc  4096 may 11 10:03 Untitled Folder\\ndrwxr-xr-x  2 dsc dsc  4096 mar 28  2019 Videos\\ndrwxrwxr-x  3 dsc dsc  4096 abr  1  2019 vm-config-master'"
      ]
     },
     "execution_count": 31,
     "metadata": {},
     "output_type": "execute_result"
    }
   ],
   "source": [
    "a.n"
   ]
  },
  {
   "cell_type": "code",
   "execution_count": 32,
   "metadata": {},
   "outputs": [
    {
     "data": {
      "text/plain": [
       "str"
      ]
     },
     "execution_count": 32,
     "metadata": {},
     "output_type": "execute_result"
    }
   ],
   "source": [
    "type(a.n)"
   ]
  },
  {
   "cell_type": "code",
   "execution_count": 33,
   "metadata": {},
   "outputs": [
    {
     "data": {
      "text/plain": [
       "'total 188 -rw-rw-r--  1 dsc dsc  5793 abr 27 14:01 2018-04-27.txt -rw-rw-r--  1 dsc dsc 16505 may 11 23:21 2019-05-11.txt -rw-rw-r--  1 dsc dsc 25821 oct 19 13:58 20191019.txt -rw-rw-r--  1 dsc dsc 35994 oct 25 22:17 20191025.txt drwxrwxr-x 26 dsc dsc  4096 abr  1  2019 anaconda3 drwxrwxr-x  9 dsc dsc  4096 oct 25 20:58 Data drwxr-xr-x  2 dsc dsc  4096 may 10 15:38 Desktop drwxrwxr-x  5 dsc dsc  4096 oct 19 11:03 DIRECTORY drwxr-xr-x  2 dsc dsc  4096 mar 28  2019 Documents drwxr-xr-x  2 dsc dsc  4096 oct 25 13:51 Downloads drwxrwxr-x  5 dsc dsc  4096 oct 18 13:40 DS_CL_files -rw-rw-r--  1 dsc dsc    31 oct 19 10:53 example_unique.txt drwxrwxr-x  5 dsc dsc  4096 oct 19 11:35 first_dir drwxr-xr-x  2 dsc dsc  4096 mar 28  2019 Music drwxrwxr-x  2 dsc dsc  4096 may 10 21:39 my_scripts drwxr-xr-x  3 dsc dsc  4096 jun  7 17:15 Pictures drwxrwxr-x  2 dsc dsc  4096 oct 25 21:45 private_scripts drwxr-xr-x  2 dsc dsc  4096 mar 28  2019 Public drwxrwxr-x  3 dsc dsc  4096 oct 26 13:05 python_class drwxrwxr-x  4 dsc dsc  4096 may 17 21:58 python_class_v16 drwxrwxr-x  4 dsc dsc  4096 oct 25 13:53 python_class_v18 drwxrwxr-x  5 dsc dsc  4096 oct 19 10:07 Repos drwxrwxr-x  6 dsc dsc  4096 abr 27 11:06 sabado drwxr-xr-x  2 dsc dsc  4096 mar 28  2019 Templates -rwxrwxrwx  1 dsc dsc     0 abr 27 10:40 test_file -rw-rw-r--  1 dsc dsc    60 oct 25 17:10 uniq_example.txt drwxrwxr-x  2 dsc dsc  4096 may 11 10:03 Untitled Folder drwxr-xr-x  2 dsc dsc  4096 mar 28  2019 Videos drwxrwxr-x  3 dsc dsc  4096 abr  1  2019 vm-config-master'"
      ]
     },
     "execution_count": 33,
     "metadata": {},
     "output_type": "execute_result"
    }
   ],
   "source": [
    "a.s"
   ]
  },
  {
   "cell_type": "code",
   "execution_count": 34,
   "metadata": {},
   "outputs": [
    {
     "data": {
      "text/plain": [
       "str"
      ]
     },
     "execution_count": 34,
     "metadata": {},
     "output_type": "execute_result"
    }
   ],
   "source": [
    "type(a.s)"
   ]
  },
  {
   "cell_type": "code",
   "execution_count": 39,
   "metadata": {},
   "outputs": [
    {
     "name": "stdout",
     "output_type": "stream",
     "text": [
      "/home/dsc/Data/shell\n"
     ]
    }
   ],
   "source": [
    "%cd Data/shell/\n"
   ]
  },
  {
   "cell_type": "code",
   "execution_count": 40,
   "metadata": {},
   "outputs": [
    {
     "name": "stdout",
     "output_type": "stream",
     "text": [
      "total 664\r\n",
      "-rw-rw-r-- 1 dsc dsc    572 abr 27 13:26 2x_text.txt\r\n",
      "-rw-rw-r-- 1 dsc dsc 627563 abr  2  2018 Finn.txt\r\n",
      "-rw-rw-r-- 1 dsc dsc     10 abr 27 13:09 hello-world.txt\r\n",
      "-rw-rw-r-- 1 dsc dsc     52 oct 25 20:11 linead_con_problema.txt\r\n",
      "-rw-rw-r-- 1 dsc dsc      2 abr 27 13:16 number_of_words\r\n",
      "-rw-rw-r-- 1 dsc dsc     21 oct 25 18:25 numbers\r\n",
      "-rw-rw-r-- 1 dsc dsc     21 may 10 18:15 numbers.txt\r\n",
      "drwxrwxr-x 2 dsc dsc   4096 oct 25 20:49 \u001b[0m\u001b[01;34mtar\u001b[0m/\r\n",
      "drwxrwxr-x 2 dsc dsc   4096 oct 25 20:49 \u001b[01;34mtarbz2\u001b[0m/\r\n",
      "drwxrwxr-x 2 dsc dsc   4096 oct 25 20:50 \u001b[01;34mtarzip\u001b[0m/\r\n",
      "-rw-rw-r-- 1 dsc dsc    237 oct 25 20:21 Text_example.txt\r\n",
      "-rw-rw-r-- 1 dsc dsc    237 oct 25 20:00 Text_example.txt.copy\r\n",
      "drwxrwxr-x 2 dsc dsc   4096 oct 25 20:32 \u001b[01;34munzipped_files\u001b[0m/\r\n"
     ]
    }
   ],
   "source": [
    "%ls -l"
   ]
  },
  {
   "cell_type": "code",
   "execution_count": 41,
   "metadata": {},
   "outputs": [],
   "source": [
    "a=! cat Text_example.txt"
   ]
  },
  {
   "cell_type": "markdown",
   "metadata": {},
   "source": [
    "The output capture has the following special attributes:  \n",
    "__.l (or .list) : value as list.  \n",
    ".n (or .nlstr): value as newline-separated string.  \n",
    ".s (or .spstr): value as space-separated string.__  \n"
   ]
  },
  {
   "cell_type": "code",
   "execution_count": 42,
   "metadata": {},
   "outputs": [
    {
     "data": {
      "text/plain": [
       "['THIS LINE IS THE 1ST UPPER CASE LINE IN THIS FILE.',\n",
       " 'this line is the 1st lower case line in this file.',\n",
       " 'This Line Has All Its First Character Of The Word With Upper Case.',\n",
       " '',\n",
       " '',\n",
       " 'Two lines above this are empty.',\n",
       " 'And this is the last line.']"
      ]
     },
     "execution_count": 42,
     "metadata": {},
     "output_type": "execute_result"
    }
   ],
   "source": [
    "a"
   ]
  },
  {
   "cell_type": "code",
   "execution_count": 43,
   "metadata": {},
   "outputs": [
    {
     "data": {
      "text/plain": [
       "'THIS LINE IS THE 1ST UPPER CASE LINE IN THIS FILE.\\nthis line is the 1st lower case line in this file.\\nThis Line Has All Its First Character Of The Word With Upper Case.\\n\\n\\nTwo lines above this are empty.\\nAnd this is the last line.'"
      ]
     },
     "execution_count": 43,
     "metadata": {},
     "output_type": "execute_result"
    }
   ],
   "source": [
    "a.n"
   ]
  },
  {
   "cell_type": "code",
   "execution_count": 44,
   "metadata": {},
   "outputs": [
    {
     "data": {
      "text/plain": [
       "'THIS LINE IS THE 1ST UPPER CASE LINE IN THIS FILE. this line is the 1st lower case line in this file. This Line Has All Its First Character Of The Word With Upper Case.   Two lines above this are empty. And this is the last line.'"
      ]
     },
     "execution_count": 44,
     "metadata": {},
     "output_type": "execute_result"
    }
   ],
   "source": [
    "a.s"
   ]
  },
  {
   "cell_type": "code",
   "execution_count": 47,
   "metadata": {},
   "outputs": [],
   "source": [
    "! rm -rf tar tarbz2 tarzip unzipped_files/"
   ]
  },
  {
   "cell_type": "code",
   "execution_count": 49,
   "metadata": {},
   "outputs": [
    {
     "name": "stdout",
     "output_type": "stream",
     "text": [
      "2x_text.txt      linead_con_problema.txt  numbers.txt\r\n",
      "Finn.txt         number_of_words          Text_example.txt\r\n",
      "hello-world.txt  numbers                  Text_example.txt.copy\r\n"
     ]
    }
   ],
   "source": [
    "%ls"
   ]
  },
  {
   "cell_type": "code",
   "execution_count": 52,
   "metadata": {},
   "outputs": [],
   "source": [
    "files_in_dir=!ls *.txt*"
   ]
  },
  {
   "cell_type": "code",
   "execution_count": 53,
   "metadata": {},
   "outputs": [
    {
     "data": {
      "text/plain": [
       "['2x_text.txt',\n",
       " 'Finn.txt',\n",
       " 'hello-world.txt',\n",
       " 'linead_con_problema.txt',\n",
       " 'numbers.txt',\n",
       " 'Text_example.txt',\n",
       " 'Text_example.txt.copy']"
      ]
     },
     "execution_count": 53,
     "metadata": {},
     "output_type": "execute_result"
    }
   ],
   "source": [
    "files_in_dir"
   ]
  },
  {
   "cell_type": "markdown",
   "metadata": {},
   "source": [
    "__You can use curly braces to substitute the value of a Python expression within a shell command__"
   ]
  },
  {
   "cell_type": "code",
   "execution_count": 56,
   "metadata": {},
   "outputs": [
    {
     "name": "stdout",
     "output_type": "stream",
     "text": [
      "    14    108    572 2x_text.txt\r\n",
      " 12363 114271 627563 Finn.txt\r\n",
      "     0      1     10 hello-world.txt\r\n",
      "     1     11     52 linead_con_problema.txt\r\n",
      "    10     10     21 numbers.txt\r\n",
      "     7     47    237 Text_example.txt\r\n",
      "     7     47    237 Text_example.txt.copy\r\n",
      " 12402 114495 628692 total\r\n"
     ]
    }
   ],
   "source": [
    "! wc $files_in_dir.s"
   ]
  },
  {
   "cell_type": "code",
   "execution_count": 57,
   "metadata": {},
   "outputs": [
    {
     "name": "stdout",
     "output_type": "stream",
     "text": [
      "/home/dsc/anaconda3/bin:/home/dsc/anaconda3/condabin:/usr/local/sbin:/usr/local/bin:/usr/sbin:/usr/bin:/sbin:/bin:/usr/games:/usr/local/games:/snap/bin:/usr/local/bin/popcorntime:/opt/go/bin:/usr/local/spark/bin:/home/dsc/my_scripts:/home/dsc/private_scripts\r\n"
     ]
    }
   ],
   "source": [
    "! echo $PATH"
   ]
  },
  {
   "cell_type": "code",
   "execution_count": null,
   "metadata": {},
   "outputs": [],
   "source": []
  },
  {
   "cell_type": "code",
   "execution_count": null,
   "metadata": {},
   "outputs": [],
   "source": []
  },
  {
   "cell_type": "code",
   "execution_count": null,
   "metadata": {},
   "outputs": [],
   "source": []
  },
  {
   "cell_type": "markdown",
   "metadata": {},
   "source": [
    "# Controling the workspace"
   ]
  },
  {
   "cell_type": "code",
   "execution_count": 58,
   "metadata": {},
   "outputs": [
    {
     "data": {
      "text/plain": [
       "3.3333333333333335"
      ]
     },
     "execution_count": 58,
     "metadata": {},
     "output_type": "execute_result"
    }
   ],
   "source": [
    "10/3"
   ]
  },
  {
   "cell_type": "code",
   "execution_count": 59,
   "metadata": {},
   "outputs": [
    {
     "data": {
      "text/plain": [
       "'%.2f'"
      ]
     },
     "execution_count": 59,
     "metadata": {},
     "output_type": "execute_result"
    }
   ],
   "source": [
    "%precision 2"
   ]
  },
  {
   "cell_type": "code",
   "execution_count": 60,
   "metadata": {},
   "outputs": [
    {
     "data": {
      "text/plain": [
       "3.33"
      ]
     },
     "execution_count": 60,
     "metadata": {},
     "output_type": "execute_result"
    }
   ],
   "source": [
    "10/3"
   ]
  },
  {
   "cell_type": "code",
   "execution_count": 61,
   "metadata": {},
   "outputs": [
    {
     "name": "stdout",
     "output_type": "stream",
     "text": [
      "Once deleted, variables cannot be recovered. Proceed (y/[n])? y\n"
     ]
    }
   ],
   "source": [
    "%reset"
   ]
  },
  {
   "cell_type": "code",
   "execution_count": 62,
   "metadata": {},
   "outputs": [
    {
     "name": "stdout",
     "output_type": "stream",
     "text": [
      "Interactive namespace is empty.\n"
     ]
    }
   ],
   "source": [
    "%whos"
   ]
  },
  {
   "cell_type": "code",
   "execution_count": 63,
   "metadata": {},
   "outputs": [
    {
     "name": "stdout",
     "output_type": "stream",
     "text": [
      "Interactive namespace is empty.\n"
     ]
    }
   ],
   "source": [
    "%who"
   ]
  },
  {
   "cell_type": "code",
   "execution_count": 64,
   "metadata": {},
   "outputs": [],
   "source": [
    "k=1"
   ]
  },
  {
   "cell_type": "code",
   "execution_count": 65,
   "metadata": {},
   "outputs": [],
   "source": [
    "def funckkk():\n",
    "    pass"
   ]
  },
  {
   "cell_type": "code",
   "execution_count": 66,
   "metadata": {},
   "outputs": [
    {
     "name": "stdout",
     "output_type": "stream",
     "text": [
      "Variable   Type        Data/Info\n",
      "--------------------------------\n",
      "funckkk    function    <function funckkk at 0x7f30ef264e18>\n",
      "k          int         1\n"
     ]
    }
   ],
   "source": [
    "%whos"
   ]
  },
  {
   "cell_type": "code",
   "execution_count": 67,
   "metadata": {},
   "outputs": [
    {
     "name": "stdout",
     "output_type": "stream",
     "text": [
      "funckkk\t k\t \n"
     ]
    }
   ],
   "source": [
    "%who"
   ]
  },
  {
   "cell_type": "code",
   "execution_count": 68,
   "metadata": {},
   "outputs": [
    {
     "data": {
      "text/plain": [
       "['In',\n",
       " 'Out',\n",
       " '__builtin__',\n",
       " '__builtins__',\n",
       " '__name__',\n",
       " '_dh',\n",
       " '_i',\n",
       " '_i62',\n",
       " '_i63',\n",
       " '_i64',\n",
       " '_i65',\n",
       " '_i66',\n",
       " '_i67',\n",
       " '_i68',\n",
       " '_ih',\n",
       " '_ii',\n",
       " '_iii',\n",
       " '_oh',\n",
       " 'exit',\n",
       " 'funckkk',\n",
       " 'get_ipython',\n",
       " 'k',\n",
       " 'quit']"
      ]
     },
     "execution_count": 68,
     "metadata": {},
     "output_type": "execute_result"
    }
   ],
   "source": [
    "dir()"
   ]
  },
  {
   "cell_type": "code",
   "execution_count": 69,
   "metadata": {},
   "outputs": [
    {
     "name": "stdout",
     "output_type": "stream",
     "text": [
      "a\t funckkk\t k\t \n"
     ]
    }
   ],
   "source": [
    "k=5; a=k\n",
    "\n",
    "%who"
   ]
  },
  {
   "cell_type": "code",
   "execution_count": 70,
   "metadata": {},
   "outputs": [],
   "source": [
    "del a"
   ]
  },
  {
   "cell_type": "code",
   "execution_count": 71,
   "metadata": {},
   "outputs": [
    {
     "data": {
      "text/plain": [
       "5"
      ]
     },
     "execution_count": 71,
     "metadata": {},
     "output_type": "execute_result"
    }
   ],
   "source": [
    "k"
   ]
  },
  {
   "cell_type": "code",
   "execution_count": 72,
   "metadata": {},
   "outputs": [
    {
     "name": "stdout",
     "output_type": "stream",
     "text": [
      "a\t funckkk\t k\t \n"
     ]
    }
   ],
   "source": [
    "k=5; a=k\n",
    "\n",
    "%who"
   ]
  },
  {
   "cell_type": "code",
   "execution_count": 73,
   "metadata": {},
   "outputs": [],
   "source": [
    "%xdel a"
   ]
  },
  {
   "cell_type": "code",
   "execution_count": 74,
   "metadata": {},
   "outputs": [
    {
     "ename": "NameError",
     "evalue": "name 'k' is not defined",
     "output_type": "error",
     "traceback": [
      "\u001b[0;31m---------------------------------------------------------------------------\u001b[0m",
      "\u001b[0;31mNameError\u001b[0m                                 Traceback (most recent call last)",
      "\u001b[0;32m<ipython-input-74-141b3ea3f03f>\u001b[0m in \u001b[0;36m<module>\u001b[0;34m\u001b[0m\n\u001b[0;32m----> 1\u001b[0;31m \u001b[0mk\u001b[0m\u001b[0;34m\u001b[0m\u001b[0;34m\u001b[0m\u001b[0m\n\u001b[0m",
      "\u001b[0;31mNameError\u001b[0m: name 'k' is not defined"
     ]
    }
   ],
   "source": [
    "k"
   ]
  },
  {
   "cell_type": "code",
   "execution_count": 75,
   "metadata": {},
   "outputs": [
    {
     "name": "stdout",
     "output_type": "stream",
     "text": [
      "Directory history (kept in _dh)\n",
      "0: /home/dsc/Data/shell\n"
     ]
    }
   ],
   "source": [
    "%dhist"
   ]
  },
  {
   "cell_type": "code",
   "execution_count": 77,
   "metadata": {},
   "outputs": [
    {
     "name": "stdout",
     "output_type": "stream",
     "text": [
      "/home/dsc/Data\n"
     ]
    }
   ],
   "source": [
    "%cd ..\n"
   ]
  },
  {
   "cell_type": "code",
   "execution_count": 78,
   "metadata": {},
   "outputs": [
    {
     "name": "stdout",
     "output_type": "stream",
     "text": [
      "Directory history (kept in _dh)\n",
      "0: /home/dsc/Data/shell\n",
      "1: /home/dsc/Data\n"
     ]
    }
   ],
   "source": [
    "%dhist"
   ]
  },
  {
   "cell_type": "code",
   "execution_count": 79,
   "metadata": {},
   "outputs": [
    {
     "data": {
      "text/plain": [
       "'/home/dsc/Data/shell'"
      ]
     },
     "execution_count": 79,
     "metadata": {},
     "output_type": "execute_result"
    }
   ],
   "source": [
    "_dh[0]"
   ]
  },
  {
   "cell_type": "code",
   "execution_count": null,
   "metadata": {},
   "outputs": [],
   "source": []
  }
 ],
 "metadata": {
  "kernelspec": {
   "display_name": "Python 3",
   "language": "python",
   "name": "python3"
  },
  "language_info": {
   "codemirror_mode": {
    "name": "ipython",
    "version": 3
   },
   "file_extension": ".py",
   "mimetype": "text/x-python",
   "name": "python",
   "nbconvert_exporter": "python",
   "pygments_lexer": "ipython3",
   "version": "3.7.4"
  }
 },
 "nbformat": 4,
 "nbformat_minor": 2
}
