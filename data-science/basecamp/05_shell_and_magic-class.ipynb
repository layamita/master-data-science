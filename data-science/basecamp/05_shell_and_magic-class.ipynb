{
 "cells": [
  {
   "cell_type": "markdown",
   "metadata": {},
   "source": [
    "# Using the shell from within IPython\n",
    "\n",
    "with `!`, we can send commands to the underlying operating system.  \n",
    "__IMPORTANT!! The shell where !command runs is immediately discarded after executing ‘command’.__\n"
   ]
  },
  {
   "cell_type": "code",
   "execution_count": 3,
   "metadata": {},
   "outputs": [
    {
     "name": "stdout",
     "output_type": "stream",
     "text": [
      "/home/dsc/python_class\r\n"
     ]
    }
   ],
   "source": [
    "! pwd"
   ]
  },
  {
   "cell_type": "code",
   "execution_count": 4,
   "metadata": {},
   "outputs": [
    {
     "name": "stdout",
     "output_type": "stream",
     "text": [
      "sáb oct 26 12:57:59 CEST 2019\r\n"
     ]
    }
   ],
   "source": [
    "! date"
   ]
  },
  {
   "cell_type": "code",
   "execution_count": 6,
   "metadata": {},
   "outputs": [
    {
     "name": "stdout",
     "output_type": "stream",
     "text": [
      "      9      74     595\r\n"
     ]
    }
   ],
   "source": [
    "! ls -l | wc"
   ]
  },
  {
   "cell_type": "code",
   "execution_count": 7,
   "metadata": {},
   "outputs": [
    {
     "name": "stdout",
     "output_type": "stream",
     "text": [
      "/bin/sh: 1: ll: not found\r\n"
     ]
    }
   ],
   "source": [
    "! ll"
   ]
  },
  {
   "cell_type": "code",
   "execution_count": 8,
   "metadata": {},
   "outputs": [
    {
     "name": "stdout",
     "output_type": "stream",
     "text": [
      "/home/dsc/python_class\r\n"
     ]
    }
   ],
   "source": [
    "!pwd"
   ]
  },
  {
   "cell_type": "code",
   "execution_count": 12,
   "metadata": {},
   "outputs": [
    {
     "name": "stdout",
     "output_type": "stream",
     "text": [
      "/home/dsc/python_class\r\n"
     ]
    }
   ],
   "source": [
    "! cd ..\n",
    "! pwd"
   ]
  },
  {
   "cell_type": "code",
   "execution_count": 10,
   "metadata": {},
   "outputs": [
    {
     "name": "stdout",
     "output_type": "stream",
     "text": [
      "/home/dsc/python_class\r\n"
     ]
    }
   ],
   "source": [
    "!pwd"
   ]
  },
  {
   "cell_type": "code",
   "execution_count": null,
   "metadata": {},
   "outputs": [],
   "source": []
  },
  {
   "cell_type": "markdown",
   "metadata": {},
   "source": [
    "#  Line and Cell magics\n",
    "\n",
    "\"Metacommands\" that allow us to interact with IPython.  \n",
    "__They are not Python! other interpreters will throw a SyntaxError if we use them in regular Python progrmas.__  \n",
    "They are intended only for interactive use."
   ]
  },
  {
   "cell_type": "markdown",
   "metadata": {},
   "source": [
    "IPython has a set of predefined ‘magic functions’  \n",
    "Line magics are prefixed with the %  \n",
    "Cell magics are prefixed with a double %%\n"
   ]
  },
  {
   "cell_type": "code",
   "execution_count": 13,
   "metadata": {},
   "outputs": [
    {
     "data": {
      "application/json": {
       "cell": {
        "!": "OSMagics",
        "HTML": "Other",
        "SVG": "Other",
        "bash": "Other",
        "capture": "ExecutionMagics",
        "debug": "ExecutionMagics",
        "file": "Other",
        "html": "DisplayMagics",
        "javascript": "DisplayMagics",
        "js": "DisplayMagics",
        "latex": "DisplayMagics",
        "markdown": "DisplayMagics",
        "perl": "Other",
        "prun": "ExecutionMagics",
        "pypy": "Other",
        "python": "Other",
        "python2": "Other",
        "python3": "Other",
        "ruby": "Other",
        "script": "ScriptMagics",
        "sh": "Other",
        "svg": "DisplayMagics",
        "sx": "OSMagics",
        "system": "OSMagics",
        "time": "ExecutionMagics",
        "timeit": "ExecutionMagics",
        "writefile": "OSMagics"
       },
       "line": {
        "alias": "OSMagics",
        "alias_magic": "BasicMagics",
        "autoawait": "AsyncMagics",
        "autocall": "AutoMagics",
        "automagic": "AutoMagics",
        "autosave": "KernelMagics",
        "bookmark": "OSMagics",
        "cat": "Other",
        "cd": "OSMagics",
        "clear": "KernelMagics",
        "colors": "BasicMagics",
        "config": "ConfigMagics",
        "connect_info": "KernelMagics",
        "cp": "Other",
        "debug": "ExecutionMagics",
        "dhist": "OSMagics",
        "dirs": "OSMagics",
        "doctest_mode": "BasicMagics",
        "ed": "Other",
        "edit": "KernelMagics",
        "env": "OSMagics",
        "gui": "BasicMagics",
        "hist": "Other",
        "history": "HistoryMagics",
        "killbgscripts": "ScriptMagics",
        "ldir": "Other",
        "less": "KernelMagics",
        "lf": "Other",
        "lk": "Other",
        "ll": "Other",
        "load": "CodeMagics",
        "load_ext": "ExtensionMagics",
        "loadpy": "CodeMagics",
        "logoff": "LoggingMagics",
        "logon": "LoggingMagics",
        "logstart": "LoggingMagics",
        "logstate": "LoggingMagics",
        "logstop": "LoggingMagics",
        "ls": "Other",
        "lsmagic": "BasicMagics",
        "lx": "Other",
        "macro": "ExecutionMagics",
        "magic": "BasicMagics",
        "man": "KernelMagics",
        "matplotlib": "PylabMagics",
        "mkdir": "Other",
        "more": "KernelMagics",
        "mv": "Other",
        "notebook": "BasicMagics",
        "page": "BasicMagics",
        "pastebin": "CodeMagics",
        "pdb": "ExecutionMagics",
        "pdef": "NamespaceMagics",
        "pdoc": "NamespaceMagics",
        "pfile": "NamespaceMagics",
        "pinfo": "NamespaceMagics",
        "pinfo2": "NamespaceMagics",
        "pip": "BasicMagics",
        "popd": "OSMagics",
        "pprint": "BasicMagics",
        "precision": "BasicMagics",
        "prun": "ExecutionMagics",
        "psearch": "NamespaceMagics",
        "psource": "NamespaceMagics",
        "pushd": "OSMagics",
        "pwd": "OSMagics",
        "pycat": "OSMagics",
        "pylab": "PylabMagics",
        "qtconsole": "KernelMagics",
        "quickref": "BasicMagics",
        "recall": "HistoryMagics",
        "rehashx": "OSMagics",
        "reload_ext": "ExtensionMagics",
        "rep": "Other",
        "rerun": "HistoryMagics",
        "reset": "NamespaceMagics",
        "reset_selective": "NamespaceMagics",
        "rm": "Other",
        "rmdir": "Other",
        "run": "ExecutionMagics",
        "save": "CodeMagics",
        "sc": "OSMagics",
        "set_env": "OSMagics",
        "store": "StoreMagics",
        "sx": "OSMagics",
        "system": "OSMagics",
        "tb": "ExecutionMagics",
        "time": "ExecutionMagics",
        "timeit": "ExecutionMagics",
        "unalias": "OSMagics",
        "unload_ext": "ExtensionMagics",
        "who": "NamespaceMagics",
        "who_ls": "NamespaceMagics",
        "whos": "NamespaceMagics",
        "xdel": "NamespaceMagics",
        "xmode": "BasicMagics"
       }
      },
      "text/plain": [
       "Available line magics:\n",
       "%alias  %alias_magic  %autoawait  %autocall  %automagic  %autosave  %bookmark  %cat  %cd  %clear  %colors  %config  %connect_info  %cp  %debug  %dhist  %dirs  %doctest_mode  %ed  %edit  %env  %gui  %hist  %history  %killbgscripts  %ldir  %less  %lf  %lk  %ll  %load  %load_ext  %loadpy  %logoff  %logon  %logstart  %logstate  %logstop  %ls  %lsmagic  %lx  %macro  %magic  %man  %matplotlib  %mkdir  %more  %mv  %notebook  %page  %pastebin  %pdb  %pdef  %pdoc  %pfile  %pinfo  %pinfo2  %popd  %pprint  %precision  %prun  %psearch  %psource  %pushd  %pwd  %pycat  %pylab  %qtconsole  %quickref  %recall  %rehashx  %reload_ext  %rep  %rerun  %reset  %reset_selective  %rm  %rmdir  %run  %save  %sc  %set_env  %store  %sx  %system  %tb  %time  %timeit  %unalias  %unload_ext  %who  %who_ls  %whos  %xdel  %xmode\n",
       "\n",
       "Available cell magics:\n",
       "%%!  %%HTML  %%SVG  %%bash  %%capture  %%debug  %%file  %%html  %%javascript  %%js  %%latex  %%markdown  %%perl  %%prun  %%pypy  %%python  %%python2  %%python3  %%ruby  %%script  %%sh  %%svg  %%sx  %%system  %%time  %%timeit  %%writefile\n",
       "\n",
       "Automagic is ON, % prefix IS NOT needed for line magics."
      ]
     },
     "execution_count": 13,
     "metadata": {},
     "output_type": "execute_result"
    }
   ],
   "source": [
    "%lsmagic"
   ]
  },
  {
   "cell_type": "markdown",
   "metadata": {},
   "source": [
    "---------------"
   ]
  },
  {
   "cell_type": "code",
   "execution_count": 14,
   "metadata": {},
   "outputs": [
    {
     "name": "stdout",
     "output_type": "stream",
     "text": [
      "\n",
      "Automagic is OFF, % prefix IS needed for line magics.\n"
     ]
    }
   ],
   "source": [
    "%automagic"
   ]
  },
  {
   "cell_type": "code",
   "execution_count": 10,
   "metadata": {},
   "outputs": [
    {
     "data": {
      "text/plain": [
       "'/home/guillermo/Documents/master-data-science/data-science/basecamp'"
      ]
     },
     "execution_count": 10,
     "metadata": {},
     "output_type": "execute_result"
    }
   ],
   "source": [
    "%pwd"
   ]
  },
  {
   "cell_type": "code",
   "execution_count": 11,
   "metadata": {},
   "outputs": [
    {
     "name": "stdout",
     "output_type": "stream",
     "text": [
      "/home/guillermo/Documents/master-data-science/data-science/basecamp\r\n"
     ]
    }
   ],
   "source": [
    "!pwd"
   ]
  },
  {
   "cell_type": "code",
   "execution_count": 16,
   "metadata": {},
   "outputs": [
    {
     "name": "stdout",
     "output_type": "stream",
     "text": [
      "/home/dsc\n"
     ]
    }
   ],
   "source": [
    "%cd .."
   ]
  },
  {
   "cell_type": "code",
   "execution_count": 17,
   "metadata": {
    "collapsed": true
   },
   "outputs": [
    {
     "name": "stdout",
     "output_type": "stream",
     "text": [
      "total 188\r\n",
      "-rw-rw-r--  1 dsc  5793 abr 27 14:01  2018-04-27.txt\r\n",
      "-rw-rw-r--  1 dsc 16505 may 11 23:21  2019-05-11.txt\r\n",
      "-rw-rw-r--  1 dsc 25821 oct 19 13:58  20191019.txt\r\n",
      "-rw-rw-r--  1 dsc 35994 oct 25 22:17  20191025.txt\r\n",
      "drwxrwxr-x 26 dsc  4096 abr  1  2019  \u001b[0m\u001b[01;34manaconda3\u001b[0m/\r\n",
      "drwxrwxr-x  9 dsc  4096 oct 25 20:58  \u001b[01;34mData\u001b[0m/\r\n",
      "drwxr-xr-x  2 dsc  4096 may 10 15:38  \u001b[01;34mDesktop\u001b[0m/\r\n",
      "drwxrwxr-x  5 dsc  4096 oct 19 11:03  \u001b[01;34mDIRECTORY\u001b[0m/\r\n",
      "drwxr-xr-x  2 dsc  4096 mar 28  2019  \u001b[01;34mDocuments\u001b[0m/\r\n",
      "drwxr-xr-x  2 dsc  4096 oct 25 13:51  \u001b[01;34mDownloads\u001b[0m/\r\n",
      "drwxrwxr-x  5 dsc  4096 oct 18 13:40  \u001b[01;34mDS_CL_files\u001b[0m/\r\n",
      "-rw-rw-r--  1 dsc    31 oct 19 10:53  example_unique.txt\r\n",
      "drwxrwxr-x  5 dsc  4096 oct 19 11:35  \u001b[01;34mfirst_dir\u001b[0m/\r\n",
      "drwxr-xr-x  2 dsc  4096 mar 28  2019  \u001b[01;34mMusic\u001b[0m/\r\n",
      "drwxrwxr-x  2 dsc  4096 may 10 21:39  \u001b[01;34mmy_scripts\u001b[0m/\r\n",
      "drwxr-xr-x  3 dsc  4096 jun  7 17:15  \u001b[01;34mPictures\u001b[0m/\r\n",
      "drwxrwxr-x  2 dsc  4096 oct 25 21:45  \u001b[01;34mprivate_scripts\u001b[0m/\r\n",
      "drwxr-xr-x  2 dsc  4096 mar 28  2019  \u001b[01;34mPublic\u001b[0m/\r\n",
      "drwxrwxr-x  3 dsc  4096 oct 26 13:03  \u001b[01;34mpython_class\u001b[0m/\r\n",
      "drwxrwxr-x  4 dsc  4096 may 17 21:58  \u001b[01;34mpython_class_v16\u001b[0m/\r\n",
      "drwxrwxr-x  4 dsc  4096 oct 25 13:53  \u001b[01;34mpython_class_v18\u001b[0m/\r\n",
      "drwxrwxr-x  5 dsc  4096 oct 19 10:07  \u001b[01;34mRepos\u001b[0m/\r\n",
      "drwxrwxr-x  6 dsc  4096 abr 27 11:06  \u001b[01;34msabado\u001b[0m/\r\n",
      "drwxr-xr-x  2 dsc  4096 mar 28  2019  \u001b[01;34mTemplates\u001b[0m/\r\n",
      "-rwxrwxrwx  1 dsc     0 abr 27 10:40  \u001b[01;32mtest_file\u001b[0m*\r\n",
      "-rw-rw-r--  1 dsc    60 oct 25 17:10  uniq_example.txt\r\n",
      "drwxrwxr-x  2 dsc  4096 may 11 10:03 \u001b[01;34m'Untitled Folder'\u001b[0m/\r\n",
      "drwxr-xr-x  2 dsc  4096 mar 28  2019  \u001b[01;34mVideos\u001b[0m/\r\n",
      "drwxrwxr-x  3 dsc  4096 abr  1  2019  \u001b[01;34mvm-config-master\u001b[0m/\r\n"
     ]
    }
   ],
   "source": [
    "%ll"
   ]
  },
  {
   "cell_type": "code",
   "execution_count": 20,
   "metadata": {
    "scrolled": true
   },
   "outputs": [
    {
     "data": {
      "text/plain": [
       "['/home/dsc',\n",
       " 'total 4',\n",
       " 'drwxr-xr-x 39 dsc dsc 4096 oct 26 09:59 dsc',\n",
       " '/home']"
      ]
     },
     "execution_count": 20,
     "metadata": {},
     "output_type": "execute_result"
    }
   ],
   "source": [
    "%%!\n",
    "pwd\n",
    "cd ..\n",
    "ls -l\n",
    "pwd\n"
   ]
  },
  {
   "cell_type": "code",
   "execution_count": 21,
   "metadata": {},
   "outputs": [
    {
     "name": "stdout",
     "output_type": "stream",
     "text": [
      "/home/dsc\n",
      "total 4\n",
      "drwxr-xr-x 39 dsc dsc 4096 oct 26 09:59 dsc\n",
      "/home\n"
     ]
    }
   ],
   "source": [
    "%%bash\n",
    "pwd\n",
    "cd ..\n",
    "ls -l\n",
    "pwd"
   ]
  },
  {
   "cell_type": "code",
   "execution_count": null,
   "metadata": {},
   "outputs": [],
   "source": []
  },
  {
   "cell_type": "code",
   "execution_count": null,
   "metadata": {},
   "outputs": [],
   "source": []
  },
  {
   "cell_type": "markdown",
   "metadata": {},
   "source": [
    "# Capturing the output of shell commands"
   ]
  },
  {
   "cell_type": "code",
   "execution_count": 1,
   "metadata": {},
   "outputs": [],
   "source": [
    "a =! ls -l"
   ]
  },
  {
   "cell_type": "code",
   "execution_count": 2,
   "metadata": {},
   "outputs": [
    {
     "data": {
      "text/plain": [
       "['total 2868',\n",
       " '-rw-rw-r-- 1 guillermo guillermo  334934 nov 22 12:09 01_intro_to_notebook_class.ipynb',\n",
       " '-rw-rw-r-- 1 guillermo guillermo   31478 nov 22 12:04 02_flow_control_class.ipynb',\n",
       " '-rw-rw-r-- 1 guillermo guillermo  293171 nov 22 12:11 03_functions_and_import_class.ipynb',\n",
       " '-rw-rw-r-- 1 guillermo guillermo  124279 nov 22 12:50 04_Scalar_Types_Class.ipynb',\n",
       " '-rw-rw-r-- 1 guillermo guillermo   34180 nov 22 12:52 05_shell_and_magic-class.ipynb',\n",
       " '-rw-rw-r-- 1 guillermo guillermo   63315 nov 22 12:05 07_working_with_files_class15.ipynb',\n",
       " '-rw-rw-r-- 1 guillermo guillermo   28198 nov 22 12:06 08_list_class_15.ipynb',\n",
       " '-rw-rw-r-- 1 guillermo guillermo   23837 nov 22 12:06 09_tuples_class_15.ipynb',\n",
       " '-rw-rw-r-- 1 guillermo guillermo   15350 nov 22 12:06 10_dict_and_set_class_15.ipynb',\n",
       " '-rw-rw-r-- 1 guillermo guillermo    9344 nov 22 12:05 20191025.txt',\n",
       " '-rw-rw-r-- 1 guillermo guillermo    1514 nov 22 12:05 20191026.txt',\n",
       " '-rw-rw-r-- 1 guillermo guillermo     192 nov 22 12:05 column_line_number.sh',\n",
       " '-rw-rw-r-- 1 guillermo guillermo   76295 nov 22 12:04 Master_class_03 - Ejercicios.pptx',\n",
       " '-rw-rw-r-- 1 guillermo guillermo   76199 nov 22 12:05 Master_class_04-05 - Ejercicios.pdf',\n",
       " '-rw-rw-r-- 1 guillermo guillermo 1675027 nov 22 12:05 Master_class_04-05v18.pdf']"
      ]
     },
     "execution_count": 2,
     "metadata": {},
     "output_type": "execute_result"
    }
   ],
   "source": [
    "a"
   ]
  },
  {
   "cell_type": "code",
   "execution_count": 3,
   "metadata": {},
   "outputs": [
    {
     "data": {
      "text/plain": [
       "IPython.utils.text.SList"
      ]
     },
     "execution_count": 3,
     "metadata": {},
     "output_type": "execute_result"
    }
   ],
   "source": [
    "type(a)"
   ]
  },
  {
   "cell_type": "code",
   "execution_count": 4,
   "metadata": {},
   "outputs": [
    {
     "data": {
      "text/plain": [
       "'total 2868'"
      ]
     },
     "execution_count": 4,
     "metadata": {},
     "output_type": "execute_result"
    }
   ],
   "source": [
    "a[0]"
   ]
  },
  {
   "cell_type": "code",
   "execution_count": 5,
   "metadata": {},
   "outputs": [
    {
     "data": {
      "text/plain": [
       "'total 2868\\n-rw-rw-r-- 1 guillermo guillermo  334934 nov 22 12:09 01_intro_to_notebook_class.ipynb\\n-rw-rw-r-- 1 guillermo guillermo   31478 nov 22 12:04 02_flow_control_class.ipynb\\n-rw-rw-r-- 1 guillermo guillermo  293171 nov 22 12:11 03_functions_and_import_class.ipynb\\n-rw-rw-r-- 1 guillermo guillermo  124279 nov 22 12:50 04_Scalar_Types_Class.ipynb\\n-rw-rw-r-- 1 guillermo guillermo   34180 nov 22 12:52 05_shell_and_magic-class.ipynb\\n-rw-rw-r-- 1 guillermo guillermo   63315 nov 22 12:05 07_working_with_files_class15.ipynb\\n-rw-rw-r-- 1 guillermo guillermo   28198 nov 22 12:06 08_list_class_15.ipynb\\n-rw-rw-r-- 1 guillermo guillermo   23837 nov 22 12:06 09_tuples_class_15.ipynb\\n-rw-rw-r-- 1 guillermo guillermo   15350 nov 22 12:06 10_dict_and_set_class_15.ipynb\\n-rw-rw-r-- 1 guillermo guillermo    9344 nov 22 12:05 20191025.txt\\n-rw-rw-r-- 1 guillermo guillermo    1514 nov 22 12:05 20191026.txt\\n-rw-rw-r-- 1 guillermo guillermo     192 nov 22 12:05 column_line_number.sh\\n-rw-rw-r-- 1 guillermo guillermo   76295 nov 22 12:04 Master_class_03 - Ejercicios.pptx\\n-rw-rw-r-- 1 guillermo guillermo   76199 nov 22 12:05 Master_class_04-05 - Ejercicios.pdf\\n-rw-rw-r-- 1 guillermo guillermo 1675027 nov 22 12:05 Master_class_04-05v18.pdf'"
      ]
     },
     "execution_count": 5,
     "metadata": {},
     "output_type": "execute_result"
    }
   ],
   "source": [
    "a.n"
   ]
  },
  {
   "cell_type": "code",
   "execution_count": 32,
   "metadata": {},
   "outputs": [
    {
     "data": {
      "text/plain": [
       "str"
      ]
     },
     "execution_count": 32,
     "metadata": {},
     "output_type": "execute_result"
    }
   ],
   "source": [
    "type(a.n)"
   ]
  },
  {
   "cell_type": "code",
   "execution_count": 6,
   "metadata": {},
   "outputs": [
    {
     "data": {
      "text/plain": [
       "'total 2868 -rw-rw-r-- 1 guillermo guillermo  334934 nov 22 12:09 01_intro_to_notebook_class.ipynb -rw-rw-r-- 1 guillermo guillermo   31478 nov 22 12:04 02_flow_control_class.ipynb -rw-rw-r-- 1 guillermo guillermo  293171 nov 22 12:11 03_functions_and_import_class.ipynb -rw-rw-r-- 1 guillermo guillermo  124279 nov 22 12:50 04_Scalar_Types_Class.ipynb -rw-rw-r-- 1 guillermo guillermo   34180 nov 22 12:52 05_shell_and_magic-class.ipynb -rw-rw-r-- 1 guillermo guillermo   63315 nov 22 12:05 07_working_with_files_class15.ipynb -rw-rw-r-- 1 guillermo guillermo   28198 nov 22 12:06 08_list_class_15.ipynb -rw-rw-r-- 1 guillermo guillermo   23837 nov 22 12:06 09_tuples_class_15.ipynb -rw-rw-r-- 1 guillermo guillermo   15350 nov 22 12:06 10_dict_and_set_class_15.ipynb -rw-rw-r-- 1 guillermo guillermo    9344 nov 22 12:05 20191025.txt -rw-rw-r-- 1 guillermo guillermo    1514 nov 22 12:05 20191026.txt -rw-rw-r-- 1 guillermo guillermo     192 nov 22 12:05 column_line_number.sh -rw-rw-r-- 1 guillermo guillermo   76295 nov 22 12:04 Master_class_03 - Ejercicios.pptx -rw-rw-r-- 1 guillermo guillermo   76199 nov 22 12:05 Master_class_04-05 - Ejercicios.pdf -rw-rw-r-- 1 guillermo guillermo 1675027 nov 22 12:05 Master_class_04-05v18.pdf'"
      ]
     },
     "execution_count": 6,
     "metadata": {},
     "output_type": "execute_result"
    }
   ],
   "source": [
    "a.s"
   ]
  },
  {
   "cell_type": "code",
   "execution_count": 7,
   "metadata": {},
   "outputs": [
    {
     "data": {
      "text/plain": [
       "str"
      ]
     },
     "execution_count": 7,
     "metadata": {},
     "output_type": "execute_result"
    }
   ],
   "source": [
    "type(a.s)"
   ]
  },
  {
   "cell_type": "code",
   "execution_count": 8,
   "metadata": {},
   "outputs": [
    {
     "name": "stdout",
     "output_type": "stream",
     "text": [
      "[Errno 2] No such file or directory: 'Data/shell/'\n",
      "/home/guillermo/Documents/master-data-science/data-science/basecamp\n"
     ]
    }
   ],
   "source": [
    "%cd Data/shell/\n"
   ]
  },
  {
   "cell_type": "code",
   "execution_count": 9,
   "metadata": {},
   "outputs": [
    {
     "name": "stdout",
     "output_type": "stream",
     "text": [
      "total 2868\r\n",
      "-rw-rw-r-- 1 guillermo guillermo  334934 nov 22 12:09  01_intro_to_notebook_class.ipynb\r\n",
      "-rw-rw-r-- 1 guillermo guillermo   31478 nov 22 12:04  02_flow_control_class.ipynb\r\n",
      "-rw-rw-r-- 1 guillermo guillermo  293171 nov 22 12:11  03_functions_and_import_class.ipynb\r\n",
      "-rw-rw-r-- 1 guillermo guillermo  124279 nov 22 12:50  04_Scalar_Types_Class.ipynb\r\n",
      "-rw-rw-r-- 1 guillermo guillermo   33021 nov 22 12:56  05_shell_and_magic-class.ipynb\r\n",
      "-rw-rw-r-- 1 guillermo guillermo   63315 nov 22 12:05  07_working_with_files_class15.ipynb\r\n",
      "-rw-rw-r-- 1 guillermo guillermo   28198 nov 22 12:06  08_list_class_15.ipynb\r\n",
      "-rw-rw-r-- 1 guillermo guillermo   23837 nov 22 12:06  09_tuples_class_15.ipynb\r\n",
      "-rw-rw-r-- 1 guillermo guillermo   15350 nov 22 12:06  10_dict_and_set_class_15.ipynb\r\n",
      "-rw-rw-r-- 1 guillermo guillermo    9344 nov 22 12:05  20191025.txt\r\n",
      "-rw-rw-r-- 1 guillermo guillermo    1514 nov 22 12:05  20191026.txt\r\n",
      "-rw-rw-r-- 1 guillermo guillermo     192 nov 22 12:05  column_line_number.sh\r\n",
      "-rw-rw-r-- 1 guillermo guillermo   76295 nov 22 12:04 'Master_class_03 - Ejercicios.pptx'\r\n",
      "-rw-rw-r-- 1 guillermo guillermo   76199 nov 22 12:05 'Master_class_04-05 - Ejercicios.pdf'\r\n",
      "-rw-rw-r-- 1 guillermo guillermo 1675027 nov 22 12:05  Master_class_04-05v18.pdf\r\n"
     ]
    }
   ],
   "source": [
    "%ls -l"
   ]
  },
  {
   "cell_type": "code",
   "execution_count": 12,
   "metadata": {},
   "outputs": [],
   "source": [
    "a=! cat Text_example.txt"
   ]
  },
  {
   "cell_type": "markdown",
   "metadata": {},
   "source": [
    "The output capture has the following special attributes:  \n",
    "__.l (or .list) : value as list.  \n",
    ".n (or .nlstr): value as newline-separated string.  \n",
    ".s (or .spstr): value as space-separated string.__  \n"
   ]
  },
  {
   "cell_type": "code",
   "execution_count": 13,
   "metadata": {},
   "outputs": [
    {
     "data": {
      "text/plain": [
       "['cat: Text_example.txt: No such file or directory']"
      ]
     },
     "execution_count": 13,
     "metadata": {},
     "output_type": "execute_result"
    }
   ],
   "source": [
    "a"
   ]
  },
  {
   "cell_type": "code",
   "execution_count": 14,
   "metadata": {},
   "outputs": [
    {
     "data": {
      "text/plain": [
       "'cat: Text_example.txt: No such file or directory'"
      ]
     },
     "execution_count": 14,
     "metadata": {},
     "output_type": "execute_result"
    }
   ],
   "source": [
    "a.n"
   ]
  },
  {
   "cell_type": "code",
   "execution_count": 15,
   "metadata": {},
   "outputs": [
    {
     "data": {
      "text/plain": [
       "'cat: Text_example.txt: No such file or directory'"
      ]
     },
     "execution_count": 15,
     "metadata": {},
     "output_type": "execute_result"
    }
   ],
   "source": [
    "a.s"
   ]
  },
  {
   "cell_type": "code",
   "execution_count": 47,
   "metadata": {},
   "outputs": [],
   "source": [
    "! rm -rf tar tarbz2 tarzip unzipped_files/"
   ]
  },
  {
   "cell_type": "code",
   "execution_count": 49,
   "metadata": {},
   "outputs": [
    {
     "name": "stdout",
     "output_type": "stream",
     "text": [
      "2x_text.txt      linead_con_problema.txt  numbers.txt\r\n",
      "Finn.txt         number_of_words          Text_example.txt\r\n",
      "hello-world.txt  numbers                  Text_example.txt.copy\r\n"
     ]
    }
   ],
   "source": [
    "%ls"
   ]
  },
  {
   "cell_type": "code",
   "execution_count": 20,
   "metadata": {},
   "outputs": [],
   "source": [
    "files_in_dir=!ls *.txt*"
   ]
  },
  {
   "cell_type": "code",
   "execution_count": 21,
   "metadata": {},
   "outputs": [
    {
     "data": {
      "text/plain": [
       "['20191025.txt', '20191026.txt']"
      ]
     },
     "execution_count": 21,
     "metadata": {},
     "output_type": "execute_result"
    }
   ],
   "source": [
    "files_in_dir"
   ]
  },
  {
   "cell_type": "markdown",
   "metadata": {},
   "source": [
    "__You can use curly braces to substitute the value of a Python expression within a shell command__"
   ]
  },
  {
   "cell_type": "code",
   "execution_count": 22,
   "metadata": {},
   "outputs": [
    {
     "name": "stdout",
     "output_type": "stream",
     "text": [
      "  307  1251  9344 20191025.txt\r\n",
      "   70   267  1514 20191026.txt\r\n",
      "  377  1518 10858 total\r\n"
     ]
    }
   ],
   "source": [
    "! wc $files_in_dir.s"
   ]
  },
  {
   "cell_type": "code",
   "execution_count": 57,
   "metadata": {},
   "outputs": [
    {
     "name": "stdout",
     "output_type": "stream",
     "text": [
      "/home/dsc/anaconda3/bin:/home/dsc/anaconda3/condabin:/usr/local/sbin:/usr/local/bin:/usr/sbin:/usr/bin:/sbin:/bin:/usr/games:/usr/local/games:/snap/bin:/usr/local/bin/popcorntime:/opt/go/bin:/usr/local/spark/bin:/home/dsc/my_scripts:/home/dsc/private_scripts\r\n"
     ]
    }
   ],
   "source": [
    "! echo $PATH"
   ]
  },
  {
   "cell_type": "code",
   "execution_count": null,
   "metadata": {},
   "outputs": [],
   "source": []
  },
  {
   "cell_type": "code",
   "execution_count": null,
   "metadata": {},
   "outputs": [],
   "source": []
  },
  {
   "cell_type": "code",
   "execution_count": null,
   "metadata": {},
   "outputs": [],
   "source": []
  },
  {
   "cell_type": "markdown",
   "metadata": {},
   "source": [
    "# Controling the workspace"
   ]
  },
  {
   "cell_type": "code",
   "execution_count": 58,
   "metadata": {},
   "outputs": [
    {
     "data": {
      "text/plain": [
       "3.3333333333333335"
      ]
     },
     "execution_count": 58,
     "metadata": {},
     "output_type": "execute_result"
    }
   ],
   "source": [
    "10/3"
   ]
  },
  {
   "cell_type": "code",
   "execution_count": 59,
   "metadata": {},
   "outputs": [
    {
     "data": {
      "text/plain": [
       "'%.2f'"
      ]
     },
     "execution_count": 59,
     "metadata": {},
     "output_type": "execute_result"
    }
   ],
   "source": [
    "%precision 2"
   ]
  },
  {
   "cell_type": "code",
   "execution_count": 60,
   "metadata": {},
   "outputs": [
    {
     "data": {
      "text/plain": [
       "3.33"
      ]
     },
     "execution_count": 60,
     "metadata": {},
     "output_type": "execute_result"
    }
   ],
   "source": [
    "10/3"
   ]
  },
  {
   "cell_type": "code",
   "execution_count": 61,
   "metadata": {},
   "outputs": [
    {
     "name": "stdout",
     "output_type": "stream",
     "text": [
      "Once deleted, variables cannot be recovered. Proceed (y/[n])? y\n"
     ]
    }
   ],
   "source": [
    "%reset"
   ]
  },
  {
   "cell_type": "code",
   "execution_count": 62,
   "metadata": {},
   "outputs": [
    {
     "name": "stdout",
     "output_type": "stream",
     "text": [
      "Interactive namespace is empty.\n"
     ]
    }
   ],
   "source": [
    "%whos"
   ]
  },
  {
   "cell_type": "code",
   "execution_count": 63,
   "metadata": {},
   "outputs": [
    {
     "name": "stdout",
     "output_type": "stream",
     "text": [
      "Interactive namespace is empty.\n"
     ]
    }
   ],
   "source": [
    "%who"
   ]
  },
  {
   "cell_type": "code",
   "execution_count": 64,
   "metadata": {},
   "outputs": [],
   "source": [
    "k=1"
   ]
  },
  {
   "cell_type": "code",
   "execution_count": 65,
   "metadata": {},
   "outputs": [],
   "source": [
    "def funckkk():\n",
    "    pass"
   ]
  },
  {
   "cell_type": "code",
   "execution_count": 66,
   "metadata": {},
   "outputs": [
    {
     "name": "stdout",
     "output_type": "stream",
     "text": [
      "Variable   Type        Data/Info\n",
      "--------------------------------\n",
      "funckkk    function    <function funckkk at 0x7f30ef264e18>\n",
      "k          int         1\n"
     ]
    }
   ],
   "source": [
    "%whos"
   ]
  },
  {
   "cell_type": "code",
   "execution_count": 67,
   "metadata": {},
   "outputs": [
    {
     "name": "stdout",
     "output_type": "stream",
     "text": [
      "funckkk\t k\t \n"
     ]
    }
   ],
   "source": [
    "%who"
   ]
  },
  {
   "cell_type": "code",
   "execution_count": 68,
   "metadata": {},
   "outputs": [
    {
     "data": {
      "text/plain": [
       "['In',\n",
       " 'Out',\n",
       " '__builtin__',\n",
       " '__builtins__',\n",
       " '__name__',\n",
       " '_dh',\n",
       " '_i',\n",
       " '_i62',\n",
       " '_i63',\n",
       " '_i64',\n",
       " '_i65',\n",
       " '_i66',\n",
       " '_i67',\n",
       " '_i68',\n",
       " '_ih',\n",
       " '_ii',\n",
       " '_iii',\n",
       " '_oh',\n",
       " 'exit',\n",
       " 'funckkk',\n",
       " 'get_ipython',\n",
       " 'k',\n",
       " 'quit']"
      ]
     },
     "execution_count": 68,
     "metadata": {},
     "output_type": "execute_result"
    }
   ],
   "source": [
    "dir()"
   ]
  },
  {
   "cell_type": "code",
   "execution_count": 69,
   "metadata": {},
   "outputs": [
    {
     "name": "stdout",
     "output_type": "stream",
     "text": [
      "a\t funckkk\t k\t \n"
     ]
    }
   ],
   "source": [
    "k=5; a=k\n",
    "\n",
    "%who"
   ]
  },
  {
   "cell_type": "code",
   "execution_count": 70,
   "metadata": {},
   "outputs": [],
   "source": [
    "del a"
   ]
  },
  {
   "cell_type": "code",
   "execution_count": 71,
   "metadata": {},
   "outputs": [
    {
     "data": {
      "text/plain": [
       "5"
      ]
     },
     "execution_count": 71,
     "metadata": {},
     "output_type": "execute_result"
    }
   ],
   "source": [
    "k"
   ]
  },
  {
   "cell_type": "code",
   "execution_count": 72,
   "metadata": {},
   "outputs": [
    {
     "name": "stdout",
     "output_type": "stream",
     "text": [
      "a\t funckkk\t k\t \n"
     ]
    }
   ],
   "source": [
    "k=5; a=k\n",
    "\n",
    "%who"
   ]
  },
  {
   "cell_type": "code",
   "execution_count": 73,
   "metadata": {},
   "outputs": [],
   "source": [
    "%xdel a"
   ]
  },
  {
   "cell_type": "code",
   "execution_count": 74,
   "metadata": {},
   "outputs": [
    {
     "ename": "NameError",
     "evalue": "name 'k' is not defined",
     "output_type": "error",
     "traceback": [
      "\u001b[0;31m---------------------------------------------------------------------------\u001b[0m",
      "\u001b[0;31mNameError\u001b[0m                                 Traceback (most recent call last)",
      "\u001b[0;32m<ipython-input-74-141b3ea3f03f>\u001b[0m in \u001b[0;36m<module>\u001b[0;34m\u001b[0m\n\u001b[0;32m----> 1\u001b[0;31m \u001b[0mk\u001b[0m\u001b[0;34m\u001b[0m\u001b[0;34m\u001b[0m\u001b[0m\n\u001b[0m",
      "\u001b[0;31mNameError\u001b[0m: name 'k' is not defined"
     ]
    }
   ],
   "source": [
    "k"
   ]
  },
  {
   "cell_type": "code",
   "execution_count": 75,
   "metadata": {},
   "outputs": [
    {
     "name": "stdout",
     "output_type": "stream",
     "text": [
      "Directory history (kept in _dh)\n",
      "0: /home/dsc/Data/shell\n"
     ]
    }
   ],
   "source": [
    "%dhist"
   ]
  },
  {
   "cell_type": "code",
   "execution_count": 77,
   "metadata": {},
   "outputs": [
    {
     "name": "stdout",
     "output_type": "stream",
     "text": [
      "/home/dsc/Data\n"
     ]
    }
   ],
   "source": [
    "%cd ..\n"
   ]
  },
  {
   "cell_type": "code",
   "execution_count": 78,
   "metadata": {},
   "outputs": [
    {
     "name": "stdout",
     "output_type": "stream",
     "text": [
      "Directory history (kept in _dh)\n",
      "0: /home/dsc/Data/shell\n",
      "1: /home/dsc/Data\n"
     ]
    }
   ],
   "source": [
    "%dhist"
   ]
  },
  {
   "cell_type": "code",
   "execution_count": 79,
   "metadata": {},
   "outputs": [
    {
     "data": {
      "text/plain": [
       "'/home/dsc/Data/shell'"
      ]
     },
     "execution_count": 79,
     "metadata": {},
     "output_type": "execute_result"
    }
   ],
   "source": [
    "_dh[0]"
   ]
  },
  {
   "cell_type": "code",
   "execution_count": null,
   "metadata": {},
   "outputs": [],
   "source": []
  }
 ],
 "metadata": {
  "kernelspec": {
   "display_name": "Python 3",
   "language": "python",
   "name": "python3"
  },
  "language_info": {
   "codemirror_mode": {
    "name": "ipython",
    "version": 3
   },
   "file_extension": ".py",
   "mimetype": "text/x-python",
   "name": "python",
   "nbconvert_exporter": "python",
   "pygments_lexer": "ipython3",
   "version": "3.7.4"
  }
 },
 "nbformat": 4,
 "nbformat_minor": 2
}
