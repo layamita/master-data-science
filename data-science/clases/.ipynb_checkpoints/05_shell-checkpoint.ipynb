{
 "cells": [
  {
   "cell_type": "code",
   "execution_count": 10,
   "metadata": {},
   "outputs": [
    {
     "name": "stdout",
     "output_type": "stream",
     "text": [
      "/Users/guillermoallendes/Desktop/Master Data Science/data-science/clases\r\n"
     ]
    }
   ],
   "source": [
    "! pwd"
   ]
  },
  {
   "cell_type": "code",
   "execution_count": 16,
   "metadata": {},
   "outputs": [
    {
     "name": "stdout",
     "output_type": "stream",
     "text": [
      "/Users/guillermoallendes/Desktop/Master Data Science/data-science/clases\r\n"
     ]
    }
   ],
   "source": [
    "!pwd"
   ]
  },
  {
   "cell_type": "code",
   "execution_count": 58,
   "metadata": {},
   "outputs": [
    {
     "name": "stdout",
     "output_type": "stream",
     "text": [
      "\n",
      "Automagic is ON, % prefix IS NOT needed for line magics.\n"
     ]
    }
   ],
   "source": [
    "%automagic"
   ]
  },
  {
   "cell_type": "code",
   "execution_count": 19,
   "metadata": {},
   "outputs": [
    {
     "data": {
      "application/json": {
       "cell": {
        "!": "OSMagics",
        "HTML": "Other",
        "SVG": "Other",
        "bash": "Other",
        "capture": "ExecutionMagics",
        "debug": "ExecutionMagics",
        "file": "Other",
        "html": "DisplayMagics",
        "javascript": "DisplayMagics",
        "js": "DisplayMagics",
        "latex": "DisplayMagics",
        "markdown": "DisplayMagics",
        "perl": "Other",
        "prun": "ExecutionMagics",
        "pypy": "Other",
        "python": "Other",
        "python2": "Other",
        "python3": "Other",
        "ruby": "Other",
        "script": "ScriptMagics",
        "sh": "Other",
        "svg": "DisplayMagics",
        "sx": "OSMagics",
        "system": "OSMagics",
        "time": "ExecutionMagics",
        "timeit": "ExecutionMagics",
        "writefile": "OSMagics"
       },
       "line": {
        "alias": "OSMagics",
        "alias_magic": "BasicMagics",
        "autoawait": "AsyncMagics",
        "autocall": "AutoMagics",
        "automagic": "AutoMagics",
        "autosave": "KernelMagics",
        "bookmark": "OSMagics",
        "cat": "Other",
        "cd": "OSMagics",
        "clear": "KernelMagics",
        "colors": "BasicMagics",
        "conda": "PackagingMagics",
        "config": "ConfigMagics",
        "connect_info": "KernelMagics",
        "cp": "Other",
        "debug": "ExecutionMagics",
        "dhist": "OSMagics",
        "dirs": "OSMagics",
        "doctest_mode": "BasicMagics",
        "ed": "Other",
        "edit": "KernelMagics",
        "env": "OSMagics",
        "gui": "BasicMagics",
        "hist": "Other",
        "history": "HistoryMagics",
        "killbgscripts": "ScriptMagics",
        "ldir": "Other",
        "less": "KernelMagics",
        "lf": "Other",
        "lk": "Other",
        "ll": "Other",
        "load": "CodeMagics",
        "load_ext": "ExtensionMagics",
        "loadpy": "CodeMagics",
        "logoff": "LoggingMagics",
        "logon": "LoggingMagics",
        "logstart": "LoggingMagics",
        "logstate": "LoggingMagics",
        "logstop": "LoggingMagics",
        "ls": "Other",
        "lsmagic": "BasicMagics",
        "lx": "Other",
        "macro": "ExecutionMagics",
        "magic": "BasicMagics",
        "man": "KernelMagics",
        "matplotlib": "PylabMagics",
        "mkdir": "Other",
        "more": "KernelMagics",
        "mv": "Other",
        "notebook": "BasicMagics",
        "page": "BasicMagics",
        "pastebin": "CodeMagics",
        "pdb": "ExecutionMagics",
        "pdef": "NamespaceMagics",
        "pdoc": "NamespaceMagics",
        "pfile": "NamespaceMagics",
        "pinfo": "NamespaceMagics",
        "pinfo2": "NamespaceMagics",
        "pip": "PackagingMagics",
        "popd": "OSMagics",
        "pprint": "BasicMagics",
        "precision": "BasicMagics",
        "prun": "ExecutionMagics",
        "psearch": "NamespaceMagics",
        "psource": "NamespaceMagics",
        "pushd": "OSMagics",
        "pwd": "OSMagics",
        "pycat": "OSMagics",
        "pylab": "PylabMagics",
        "qtconsole": "KernelMagics",
        "quickref": "BasicMagics",
        "recall": "HistoryMagics",
        "rehashx": "OSMagics",
        "reload_ext": "ExtensionMagics",
        "rep": "Other",
        "rerun": "HistoryMagics",
        "reset": "NamespaceMagics",
        "reset_selective": "NamespaceMagics",
        "rm": "Other",
        "rmdir": "Other",
        "run": "ExecutionMagics",
        "save": "CodeMagics",
        "sc": "OSMagics",
        "set_env": "OSMagics",
        "store": "StoreMagics",
        "sx": "OSMagics",
        "system": "OSMagics",
        "tb": "ExecutionMagics",
        "time": "ExecutionMagics",
        "timeit": "ExecutionMagics",
        "unalias": "OSMagics",
        "unload_ext": "ExtensionMagics",
        "who": "NamespaceMagics",
        "who_ls": "NamespaceMagics",
        "whos": "NamespaceMagics",
        "xdel": "NamespaceMagics",
        "xmode": "BasicMagics"
       }
      },
      "text/plain": [
       "Available line magics:\n",
       "%alias  %alias_magic  %autoawait  %autocall  %automagic  %autosave  %bookmark  %cat  %cd  %clear  %colors  %conda  %config  %connect_info  %cp  %debug  %dhist  %dirs  %doctest_mode  %ed  %edit  %env  %gui  %hist  %history  %killbgscripts  %ldir  %less  %lf  %lk  %ll  %load  %load_ext  %loadpy  %logoff  %logon  %logstart  %logstate  %logstop  %ls  %lsmagic  %lx  %macro  %magic  %man  %matplotlib  %mkdir  %more  %mv  %notebook  %page  %pastebin  %pdb  %pdef  %pdoc  %pfile  %pinfo  %pinfo2  %pip  %popd  %pprint  %precision  %prun  %psearch  %psource  %pushd  %pwd  %pycat  %pylab  %qtconsole  %quickref  %recall  %rehashx  %reload_ext  %rep  %rerun  %reset  %reset_selective  %rm  %rmdir  %run  %save  %sc  %set_env  %store  %sx  %system  %tb  %time  %timeit  %unalias  %unload_ext  %who  %who_ls  %whos  %xdel  %xmode\n",
       "\n",
       "Available cell magics:\n",
       "%%!  %%HTML  %%SVG  %%bash  %%capture  %%debug  %%file  %%html  %%javascript  %%js  %%latex  %%markdown  %%perl  %%prun  %%pypy  %%python  %%python2  %%python3  %%ruby  %%script  %%sh  %%svg  %%sx  %%system  %%time  %%timeit  %%writefile\n",
       "\n",
       "Automagic is ON, % prefix IS NOT needed for line magics."
      ]
     },
     "execution_count": 19,
     "metadata": {},
     "output_type": "execute_result"
    }
   ],
   "source": [
    "%lsmagic"
   ]
  },
  {
   "cell_type": "code",
   "execution_count": 39,
   "metadata": {},
   "outputs": [
    {
     "data": {
      "text/plain": [
       "['/Users/guillermoallendes/Desktop/Master Data Science/data-science/clases',\n",
       " 'total 624',\n",
       " 'drwxr-xr-x  8 guillermoallendes  staff     272 Oct 26 13:12 .',\n",
       " 'drwxr-xr-x  7 guillermoallendes  staff     238 Oct 26 09:01 ..',\n",
       " 'drwxr-xr-x  7 guillermoallendes  staff     238 Oct 26 12:56 .ipynb_checkpoints',\n",
       " '-rw-r--r--@ 1 guillermoallendes  staff  291343 Oct 26 11:46 01_intro_to_notebook_empty.ipynb',\n",
       " '-rw-r--r--  1 guillermoallendes  staff    2261 Oct 26 11:54 02_flow_control.ipynb',\n",
       " '-rw-r--r--  1 guillermoallendes  staff    3737 Oct 26 12:29 03_functions_and_import.ipynb',\n",
       " '-rw-r--r--  1 guillermoallendes  staff    2869 Oct 26 12:53 04_Scalar_types.ipynb',\n",
       " '-rw-r--r--  1 guillermoallendes  staff    9198 Oct 26 13:12 05_shell.ipynb']"
      ]
     },
     "execution_count": 39,
     "metadata": {},
     "output_type": "execute_result"
    }
   ],
   "source": [
    "%%!\n",
    "pwd\n",
    "ls -la"
   ]
  },
  {
   "cell_type": "code",
   "execution_count": 46,
   "metadata": {
    "scrolled": true
   },
   "outputs": [
    {
     "name": "stdout",
     "output_type": "stream",
     "text": [
      "/Users/guillermoallendes/Desktop/Master Data Science/data-science/clases\n",
      "total 624\n",
      "drwxr-xr-x  8 guillermoallendes  staff     272 Oct 26 13:14 .\n",
      "drwxr-xr-x  7 guillermoallendes  staff     238 Oct 26 09:01 ..\n",
      "drwxr-xr-x  7 guillermoallendes  staff     238 Oct 26 12:56 .ipynb_checkpoints\n",
      "-rw-r--r--@ 1 guillermoallendes  staff  291343 Oct 26 11:46 01_intro_to_notebook_empty.ipynb\n",
      "-rw-r--r--  1 guillermoallendes  staff    2261 Oct 26 11:54 02_flow_control.ipynb\n",
      "-rw-r--r--  1 guillermoallendes  staff    3737 Oct 26 12:29 03_functions_and_import.ipynb\n",
      "-rw-r--r--  1 guillermoallendes  staff    2869 Oct 26 12:53 04_Scalar_types.ipynb\n",
      "-rw-r--r--  1 guillermoallendes  staff    9902 Oct 26 13:14 05_shell.ipynb\n"
     ]
    }
   ],
   "source": [
    "%%bash\n",
    "pwd \n",
    "ls -la"
   ]
  },
  {
   "cell_type": "code",
   "execution_count": 50,
   "metadata": {},
   "outputs": [],
   "source": [
    "a =! ls -la"
   ]
  },
  {
   "cell_type": "code",
   "execution_count": 60,
   "metadata": {},
   "outputs": [
    {
     "name": "stdout",
     "output_type": "stream",
     "text": [
      "total 624\r\n",
      "drwxr-xr-x  8 guillermoallendes  staff     272 Oct 26 13:16 \u001b[1m\u001b[36m.\u001b[m\u001b[m/\r\n",
      "drwxr-xr-x  7 guillermoallendes  staff     238 Oct 26 09:01 \u001b[1m\u001b[36m..\u001b[m\u001b[m/\r\n",
      "drwxr-xr-x  7 guillermoallendes  staff     238 Oct 26 12:56 \u001b[1m\u001b[36m.ipynb_checkpoints\u001b[m\u001b[m/\r\n",
      "-rw-r--r--@ 1 guillermoallendes  staff  291343 Oct 26 11:46 01_intro_to_notebook_empty.ipynb\r\n",
      "-rw-r--r--  1 guillermoallendes  staff    2261 Oct 26 11:54 02_flow_control.ipynb\r\n",
      "-rw-r--r--  1 guillermoallendes  staff    3737 Oct 26 12:29 03_functions_and_import.ipynb\r\n",
      "-rw-r--r--  1 guillermoallendes  staff    2869 Oct 26 12:53 04_Scalar_types.ipynb\r\n",
      "-rw-r--r--  1 guillermoallendes  staff   11063 Oct 26 13:16 05_shell.ipynb\r\n"
     ]
    }
   ],
   "source": [
    "ls -la"
   ]
  },
  {
   "cell_type": "code",
   "execution_count": 90,
   "metadata": {},
   "outputs": [],
   "source": [
    "files_in_dir = !find . -type f"
   ]
  },
  {
   "cell_type": "code",
   "execution_count": 91,
   "metadata": {},
   "outputs": [
    {
     "data": {
      "text/plain": [
       "['./.ipynb_checkpoints/01_intro_to_notebook_empty-checkpoint.ipynb',\n",
       " './.ipynb_checkpoints/02_flow_control-checkpoint.ipynb',\n",
       " './.ipynb_checkpoints/03_functions_and_import-checkpoint.ipynb',\n",
       " './.ipynb_checkpoints/04_Scalar_types-checkpoint.ipynb',\n",
       " './.ipynb_checkpoints/05_shell-checkpoint.ipynb',\n",
       " './01_intro_to_notebook_empty.ipynb',\n",
       " './02_flow_control.ipynb',\n",
       " './03_functions_and_import.ipynb',\n",
       " './04_Scalar_types.ipynb',\n",
       " './05_shell.ipynb']"
      ]
     },
     "execution_count": 91,
     "metadata": {},
     "output_type": "execute_result"
    }
   ],
   "source": [
    "files_in_dir"
   ]
  },
  {
   "cell_type": "code",
   "execution_count": 92,
   "metadata": {},
   "outputs": [
    {
     "data": {
      "text/plain": [
       "'./.ipynb_checkpoints/01_intro_to_notebook_empty-checkpoint.ipynb ./.ipynb_checkpoints/02_flow_control-checkpoint.ipynb ./.ipynb_checkpoints/03_functions_and_import-checkpoint.ipynb ./.ipynb_checkpoints/04_Scalar_types-checkpoint.ipynb ./.ipynb_checkpoints/05_shell-checkpoint.ipynb ./01_intro_to_notebook_empty.ipynb ./02_flow_control.ipynb ./03_functions_and_import.ipynb ./04_Scalar_types.ipynb ./05_shell.ipynb'"
      ]
     },
     "execution_count": 92,
     "metadata": {},
     "output_type": "execute_result"
    }
   ],
   "source": [
    "files_in_dir.s"
   ]
  },
  {
   "cell_type": "code",
   "execution_count": 95,
   "metadata": {},
   "outputs": [
    {
     "name": "stdout",
     "output_type": "stream",
     "text": [
      "     245     644  283378 ./.ipynb_checkpoints/01_intro_to_notebook_empty-checkpoint.ipynb\r\n",
      "     118     207    1994 ./.ipynb_checkpoints/02_flow_control-checkpoint.ipynb\r\n",
      "     219     392    3737 ./.ipynb_checkpoints/03_functions_and_import-checkpoint.ipynb\r\n",
      "       6      10      72 ./.ipynb_checkpoints/04_Scalar_types-checkpoint.ipynb\r\n",
      "       6      10      72 ./.ipynb_checkpoints/05_shell-checkpoint.ipynb\r\n",
      "     703    1415  291343 ./01_intro_to_notebook_empty.ipynb\r\n",
      "     146     239    2261 ./02_flow_control.ipynb\r\n",
      "     219     392    3737 ./03_functions_and_import.ipynb\r\n",
      "     175     312    2869 ./04_Scalar_types.ipynb\r\n",
      "     420    1086   12512 ./05_shell.ipynb\r\n",
      "    2257    4707  601975 total\r\n"
     ]
    }
   ],
   "source": [
    "! wc $files_in_dir.s"
   ]
  },
  {
   "cell_type": "code",
   "execution_count": null,
   "metadata": {},
   "outputs": [],
   "source": []
  }
 ],
 "metadata": {
  "kernelspec": {
   "display_name": "Python 3",
   "language": "python",
   "name": "python3"
  }
 },
 "nbformat": 4,
 "nbformat_minor": 2
}
