{
 "cells": [
  {
   "cell_type": "code",
   "execution_count": 3,
   "metadata": {},
   "outputs": [
    {
     "name": "stdout",
     "output_type": "stream",
     "text": [
      "Populating the interactive namespace from numpy and matplotlib\n"
     ]
    }
   ],
   "source": [
    "pylab inline"
   ]
  },
  {
   "cell_type": "code",
   "execution_count": 4,
   "metadata": {},
   "outputs": [],
   "source": [
    "from scipy import stats"
   ]
  },
  {
   "cell_type": "markdown",
   "metadata": {},
   "source": [
    "Suponiendo que la probabilidad de que un recién nacido sea niña es 0,51, hallar la probabilidad de que una familia de 6 hijos tenga:\n",
    "\n",
    "1. por lo menos una niña,\n",
    "\n",
    "2. por lo menos un niño,\n",
    "\n",
    "3. por lo menos dos niños y una niña"
   ]
  },
  {
   "cell_type": "code",
   "execution_count": 4,
   "metadata": {},
   "outputs": [],
   "source": [
    "# Binomial n=6 p=.51"
   ]
  },
  {
   "cell_type": "code",
   "execution_count": 5,
   "metadata": {},
   "outputs": [],
   "source": [
    "mi_binom = stats.binom(6,.51)"
   ]
  },
  {
   "cell_type": "code",
   "execution_count": 8,
   "metadata": {},
   "outputs": [
    {
     "data": {
      "text/plain": [
       "0.986158712799"
      ]
     },
     "execution_count": 8,
     "metadata": {},
     "output_type": "execute_result"
    }
   ],
   "source": [
    "#P(X>=1)\n",
    "# = 1-P(X<=0) = 1-P(X=0)\n",
    "1-mi_binom.pmf(0)"
   ]
  },
  {
   "cell_type": "code",
   "execution_count": 9,
   "metadata": {},
   "outputs": [
    {
     "data": {
      "text/plain": [
       "0.982403712199"
      ]
     },
     "execution_count": 9,
     "metadata": {},
     "output_type": "execute_result"
    }
   ],
   "source": [
    "# P(X<=5)\n",
    "mi_binom.cdf(5)"
   ]
  },
  {
   "cell_type": "code",
   "execution_count": 13,
   "metadata": {},
   "outputs": [
    {
     "data": {
      "text/plain": [
       "0.867125001204"
      ]
     },
     "execution_count": 13,
     "metadata": {},
     "output_type": "execute_result"
    }
   ],
   "source": [
    "  mi_binom.cdf(4)-mi_binom.cdf(0)"
   ]
  },
  {
   "cell_type": "markdown",
   "metadata": {},
   "source": [
    "Paco tiene una probabilidad del 70% de llegar tarde. Que probabilidad tiene de llegar tarde 30 dias en un año ?"
   ]
  },
  {
   "cell_type": "code",
   "execution_count": 18,
   "metadata": {},
   "outputs": [],
   "source": [
    "mi_binom = stats.binom(365,.70)"
   ]
  },
  {
   "cell_type": "code",
   "execution_count": 21,
   "metadata": {},
   "outputs": [
    {
     "data": {
      "text/plain": [
       "1.2634769344547776e-136"
      ]
     },
     "execution_count": 21,
     "metadata": {},
     "output_type": "execute_result"
    }
   ],
   "source": [
    "mi_binom.pmf(30)"
   ]
  },
  {
   "cell_type": "code",
   "execution_count": 24,
   "metadata": {},
   "outputs": [],
   "source": [
    "x = np.arange(0,366)"
   ]
  },
  {
   "cell_type": "code",
   "execution_count": 25,
   "metadata": {},
   "outputs": [
    {
     "data": {
      "text/plain": [
       "array([  0,   1,   2,   3,   4,   5,   6,   7,   8,   9,  10,  11,  12,\n",
       "        13,  14,  15,  16,  17,  18,  19,  20,  21,  22,  23,  24,  25,\n",
       "        26,  27,  28,  29,  30,  31,  32,  33,  34,  35,  36,  37,  38,\n",
       "        39,  40,  41,  42,  43,  44,  45,  46,  47,  48,  49,  50,  51,\n",
       "        52,  53,  54,  55,  56,  57,  58,  59,  60,  61,  62,  63,  64,\n",
       "        65,  66,  67,  68,  69,  70,  71,  72,  73,  74,  75,  76,  77,\n",
       "        78,  79,  80,  81,  82,  83,  84,  85,  86,  87,  88,  89,  90,\n",
       "        91,  92,  93,  94,  95,  96,  97,  98,  99, 100, 101, 102, 103,\n",
       "       104, 105, 106, 107, 108, 109, 110, 111, 112, 113, 114, 115, 116,\n",
       "       117, 118, 119, 120, 121, 122, 123, 124, 125, 126, 127, 128, 129,\n",
       "       130, 131, 132, 133, 134, 135, 136, 137, 138, 139, 140, 141, 142,\n",
       "       143, 144, 145, 146, 147, 148, 149, 150, 151, 152, 153, 154, 155,\n",
       "       156, 157, 158, 159, 160, 161, 162, 163, 164, 165, 166, 167, 168,\n",
       "       169, 170, 171, 172, 173, 174, 175, 176, 177, 178, 179, 180, 181,\n",
       "       182, 183, 184, 185, 186, 187, 188, 189, 190, 191, 192, 193, 194,\n",
       "       195, 196, 197, 198, 199, 200, 201, 202, 203, 204, 205, 206, 207,\n",
       "       208, 209, 210, 211, 212, 213, 214, 215, 216, 217, 218, 219, 220,\n",
       "       221, 222, 223, 224, 225, 226, 227, 228, 229, 230, 231, 232, 233,\n",
       "       234, 235, 236, 237, 238, 239, 240, 241, 242, 243, 244, 245, 246,\n",
       "       247, 248, 249, 250, 251, 252, 253, 254, 255, 256, 257, 258, 259,\n",
       "       260, 261, 262, 263, 264, 265, 266, 267, 268, 269, 270, 271, 272,\n",
       "       273, 274, 275, 276, 277, 278, 279, 280, 281, 282, 283, 284, 285,\n",
       "       286, 287, 288, 289, 290, 291, 292, 293, 294, 295, 296, 297, 298,\n",
       "       299, 300, 301, 302, 303, 304, 305, 306, 307, 308, 309, 310, 311,\n",
       "       312, 313, 314, 315, 316, 317, 318, 319, 320, 321, 322, 323, 324,\n",
       "       325, 326, 327, 328, 329, 330, 331, 332, 333, 334, 335, 336, 337,\n",
       "       338, 339, 340, 341, 342, 343, 344, 345, 346, 347, 348, 349, 350,\n",
       "       351, 352, 353, 354, 355, 356, 357, 358, 359, 360, 361, 362, 363,\n",
       "       364, 365])"
      ]
     },
     "execution_count": 25,
     "metadata": {},
     "output_type": "execute_result"
    }
   ],
   "source": [
    "x"
   ]
  },
  {
   "cell_type": "code",
   "execution_count": 26,
   "metadata": {},
   "outputs": [],
   "source": [
    "probas = mi_binom.pmf(x)"
   ]
  },
  {
   "cell_type": "code",
   "execution_count": 28,
   "metadata": {},
   "outputs": [
    {
     "data": {
      "text/plain": [
       "array([1.41012617e-191, 1.20095746e-188, 5.10006599e-186, 1.43991863e-183,\n",
       "       3.04062818e-181, 5.12244494e-179, 7.17142291e-177, 8.58180275e-175,\n",
       "       8.96083237e-173, 8.29374818e-171, 6.88934016e-169, 5.18788191e-167,\n",
       "       3.57099205e-165, 2.26254393e-163, 1.32735911e-161, 7.24738073e-160,\n",
       "       3.69918392e-158, 1.77198163e-156, 7.99360601e-155, 3.40639807e-153,\n",
       "       1.37504935e-151, 5.27102253e-150, 1.92312458e-148, 6.69191612e-147,\n",
       "       2.22506211e-145, 7.08163101e-144, 2.16080536e-142, 6.33035940e-141,\n",
       "       1.78305123e-139, 4.83473317e-138, 1.26347693e-136, 3.18586388e-135,\n",
       "       7.75890600e-134, 1.82686969e-132, 4.16239720e-131, 9.18502316e-130,\n",
       "       1.96457440e-128, 4.07604941e-127, 8.20930652e-126, 1.60607715e-124,\n",
       "       3.05422338e-123, 5.64907169e-122, 1.01683290e-120, 1.78221643e-119,\n",
       "       3.04326957e-118, 5.06535314e-117, 8.22202248e-116, 1.30211179e-114,\n",
       "       2.01284780e-113, 3.03844169e-112, 4.48068867e-111, 6.45746309e-110,\n",
       "       9.09839991e-109, 1.25374806e-107, 1.69023813e-106, 2.23008994e-105,\n",
       "       2.88053285e-104, 3.64362137e-103, 4.51474004e-102, 5.48145557e-101,\n",
       "       6.52293213e-100, 7.61008748e-099, 8.70659471e-098, 9.77073406e-097,\n",
       "       1.07579853e-095, 1.16241411e-094, 1.23286345e-093, 1.28377273e-092,\n",
       "       1.31272055e-091, 1.31842803e-090, 1.30084899e-089, 1.26115172e-088,\n",
       "       1.20159733e-087, 1.12533157e-086, 1.03611609e-085, 9.38030434e-085,\n",
       "       8.35176219e-084, 7.31411901e-083, 6.30139484e-082, 5.34156212e-081,\n",
       "       4.45575307e-080, 3.65811826e-079, 2.95623541e-078, 2.35192865e-077,\n",
       "       1.84234411e-076, 1.42113367e-075, 1.07962093e-074, 8.07854282e-074,\n",
       "       5.95486528e-073, 4.32452576e-072, 3.09443843e-071, 2.18197582e-070,\n",
       "       1.51631508e-069, 1.03859431e-068, 7.01235305e-068, 4.66752061e-067,\n",
       "       3.06306040e-066, 1.98204218e-065, 1.26473167e-064, 7.95886700e-064,\n",
       "       4.93980345e-063, 3.02420310e-062, 1.82638148e-061, 1.08814508e-060,\n",
       "       6.39634001e-060, 3.70987721e-059, 2.12326305e-058, 1.19921368e-057,\n",
       "       6.68450589e-057, 3.67750034e-056, 1.99699412e-055, 1.07046081e-054,\n",
       "       5.66452180e-054, 2.95925313e-053, 1.52635161e-052, 7.77333272e-052,\n",
       "       3.90900352e-051, 1.94113765e-050, 9.51925128e-050, 4.61030405e-049,\n",
       "       2.20526210e-048, 1.04188003e-047, 4.86210681e-047, 2.24131265e-046,\n",
       "       1.02064076e-045, 4.59152257e-045, 2.04067670e-044, 8.96076670e-044,\n",
       "       3.88766597e-043, 1.66657309e-042, 7.05943267e-042, 2.95490248e-041,\n",
       "       1.22225512e-040, 4.99623582e-040, 2.01837984e-039, 8.05856842e-039,\n",
       "       3.17997430e-038, 1.24026735e-037, 4.78132051e-037, 1.82194683e-036,\n",
       "       6.86266640e-036, 2.55524813e-035, 9.40523254e-035, 3.42227692e-034,\n",
       "       1.23106906e-033, 4.37807778e-033, 1.53932415e-032, 5.35098396e-032,\n",
       "       1.83909944e-031, 6.24964664e-031, 2.09988127e-030, 6.97642674e-030,\n",
       "       2.29181738e-029, 7.44466169e-029, 2.39131557e-028, 7.59564108e-028,\n",
       "       2.38581034e-027, 7.41070176e-027, 2.27636746e-026, 6.91500304e-026,\n",
       "       2.07738216e-025, 6.17193251e-025, 1.81348140e-024, 5.26985087e-024,\n",
       "       1.51454657e-023, 4.30498389e-023, 1.21023644e-022, 3.36498873e-022,\n",
       "       9.25371901e-022, 2.51693856e-021, 6.77105825e-021, 1.80165585e-020,\n",
       "       4.74156714e-020, 1.23426921e-019, 3.17788854e-019, 8.09302283e-019,\n",
       "       2.03858340e-018, 5.07918237e-018, 1.25172360e-017, 3.05122195e-017,\n",
       "       7.35683515e-017, 1.75453067e-016, 4.13889285e-016, 9.65741666e-016,\n",
       "       2.22890377e-015, 5.08832627e-015, 1.14897690e-014, 2.56625322e-014,\n",
       "       5.66941757e-014, 1.23887273e-013, 2.67770386e-013, 5.72458504e-013,\n",
       "       1.21051121e-012, 2.53182915e-012, 5.23766718e-012, 1.07170728e-011,\n",
       "       2.16893141e-011, 4.34153275e-011, 8.59535777e-011, 1.68307759e-010,\n",
       "       3.25956027e-010, 6.24343634e-010, 1.18274999e-009, 2.21595687e-009,\n",
       "       4.10603773e-009, 7.52439760e-009, 1.36364487e-008, 2.44402052e-008,\n",
       "       4.33186971e-008, 7.59286253e-008, 1.31609617e-007, 2.25586785e-007,\n",
       "       3.82362506e-007, 6.40861102e-007, 1.06211248e-006, 1.74054712e-006,\n",
       "       2.82033098e-006, 4.51859479e-006, 7.15789634e-006, 1.12107692e-005,\n",
       "       1.73597062e-005, 2.65763224e-005, 4.02236231e-005, 6.01851222e-005,\n",
       "       8.90238266e-005, 1.30172618e-004, 1.88155111e-004, 2.68832486e-004,\n",
       "       3.79666932e-004, 5.29986299e-004, 7.31227474e-004, 9.97128373e-004,\n",
       "       1.34383105e-003, 1.78985223e-003, 2.35587388e-003, 3.06430688e-003,\n",
       "       3.93858653e-003, 5.00217107e-003, 6.27723429e-003, 7.78307013e-003,\n",
       "       9.53426090e-003, 1.15386975e-002, 1.37955777e-002, 1.62935424e-002,\n",
       "       1.90091328e-002, 2.19057626e-002, 2.49333883e-002, 2.80290317e-002,\n",
       "       3.11182529e-002, 3.41176026e-002, 3.69379910e-002, 3.94888218e-002,\n",
       "       4.16826452e-002, 4.34400163e-002, 4.46941900e-002, 4.53952753e-002,\n",
       "       4.55134922e-002, 4.50412380e-002, 4.39937674e-002, 4.24084064e-002,\n",
       "       4.03423558e-002, 3.78692612e-002, 3.50748374e-002, 3.20519109e-002,\n",
       "       2.88952834e-002, 2.56968117e-002, 2.25410629e-002, 1.95018185e-002,\n",
       "       1.66396113e-002, 1.40003669e-002, 1.16151192e-002, 9.50068175e-003,\n",
       "       7.66108896e-003, 6.08958353e-003, 4.77091459e-003, 3.68372436e-003,\n",
       "       2.80283375e-003, 2.10128210e-003, 1.55202611e-003, 1.12925197e-003,\n",
       "       8.09297246e-004, 5.71212172e-004, 3.97012716e-004, 2.71689503e-004,\n",
       "       1.83039641e-004, 1.21384183e-004, 7.92251080e-005, 5.08844189e-005,\n",
       "       3.21561259e-005, 1.99909479e-005, 1.22243498e-005, 7.35141308e-006,\n",
       "       4.34706847e-006, 2.52713537e-006, 1.44407735e-006, 8.10967733e-007,\n",
       "       4.47493456e-007, 2.42580628e-007, 1.29159261e-007, 6.75314305e-008,\n",
       "       3.46661343e-008, 1.74674320e-008, 8.63731738e-009, 4.19038170e-009,\n",
       "       1.99410708e-009, 9.30583305e-010, 4.25757067e-010, 1.90920379e-010,\n",
       "       8.38892573e-011, 3.61076739e-011, 1.52195787e-011, 6.28031917e-012,\n",
       "       2.53628274e-012, 1.00208828e-012, 3.87218827e-013, 1.46282668e-013,\n",
       "       5.40073141e-014, 1.94789787e-014, 6.86052080e-015, 2.35852805e-015,\n",
       "       7.91089616e-016, 2.58767631e-016, 8.25056216e-017, 2.56286812e-017,\n",
       "       7.75188506e-018, 2.28183694e-018, 6.53286648e-019, 1.81801483e-019,\n",
       "       4.91455229e-020, 1.28963429e-020, 3.28270546e-021, 8.09932365e-022,\n",
       "       1.93538055e-022, 4.47520428e-023, 1.00044487e-023, 2.16016454e-024,\n",
       "       4.50034279e-025, 9.03629661e-026, 1.74666088e-026, 3.24600695e-027,\n",
       "       5.79189475e-028, 9.90793335e-029, 1.62235166e-029, 2.53837335e-030,\n",
       "       3.78788271e-031, 5.37989138e-032, 7.25611554e-033, 9.27054147e-034,\n",
       "       1.11885845e-034, 1.27167293e-035, 1.35645113e-036, 1.35258659e-037,\n",
       "       1.25524135e-038, 1.07863043e-039, 8.53154012e-041, 6.16834356e-042,\n",
       "       4.04292181e-043, 2.37818930e-044, 1.24002422e-045, 5.64170721e-047,\n",
       "       2.19399725e-048, 7.09048048e-050, 1.82811652e-051, 3.52529356e-053,\n",
       "       4.51960712e-055, 2.88924656e-057])"
      ]
     },
     "execution_count": 28,
     "metadata": {},
     "output_type": "execute_result"
    }
   ],
   "source": [
    "probas"
   ]
  },
  {
   "cell_type": "code",
   "execution_count": 30,
   "metadata": {},
   "outputs": [
    {
     "data": {
      "text/plain": [
       "[<matplotlib.lines.Line2D at 0x11a674e80>]"
      ]
     },
     "execution_count": 30,
     "metadata": {},
     "output_type": "execute_result"
    },
    {
     "data": {
      "image/png": "[encoded data removed]",
      "text/plain": [
       "<Figure size 432x288 with 1 Axes>"
      ]
     },
     "metadata": {
      "needs_background": "light"
     },
     "output_type": "display_data"
    }
   ],
   "source": [
    "plt.plot(x,probas)"
   ]
  },
  {
   "cell_type": "code",
   "execution_count": 32,
   "metadata": {},
   "outputs": [
    {
     "data": {
      "image/png": "[encoded data removed]",
      "text/plain": [
       "<Figure size 432x288 with 1 Axes>"
      ]
     },
     "metadata": {
      "needs_background": "light"
     },
     "output_type": "display_data"
    }
   ],
   "source": [
    "plt.plot(x,mi_binom.cdf(x));"
   ]
  },
  {
   "cell_type": "code",
   "execution_count": 58,
   "metadata": {},
   "outputs": [
    {
     "data": {
      "text/plain": [
       "0.972610274399356"
      ]
     },
     "execution_count": 58,
     "metadata": {},
     "output_type": "execute_result"
    }
   ],
   "source": [
    "mi_binom = stats.binom(25,.80)\n",
    "#mi_binom.cdf(20)\n",
    "mi_binom.cdf(23)"
   ]
  },
  {
   "cell_type": "markdown",
   "metadata": {},
   "source": [
    "Cada muestra de aire tiene 10 % de posibilidades de contener una molécula rara particular. Suponga que las muestras son independientes con respecto a la presencia de la molécula rara. Encuentre la probabilidad de que en las siguientes 18 muestras, exactamente dos contengan la molécula rara."
   ]
  },
  {
   "cell_type": "code",
   "execution_count": 10,
   "metadata": {},
   "outputs": [
    {
     "data": {
      "text/plain": [
       "0.2835120888943312"
      ]
     },
     "execution_count": 10,
     "metadata": {},
     "output_type": "execute_result"
    }
   ],
   "source": [
    "mi_binom = stats.binom(18,.1)\n",
    "mi_binom.pmf(2)\n"
   ]
  },
  {
   "cell_type": "markdown",
   "metadata": {},
   "source": [
    "La probabilidad de que un individuo tenga una reacción alérgica al inyectarle un suero es p = 0,001. Hallar la probabilidad de que, entre 2000 individuos, tengan reacción alérgica:\n",
    "\n",
    "•exactamente tres\n",
    "•más de dos"
   ]
  },
  {
   "cell_type": "code",
   "execution_count": 60,
   "metadata": {},
   "outputs": [],
   "source": [
    "# Poisson\n",
    "# lambda = n*p = 2000 0 0.001"
   ]
  },
  {
   "cell_type": "code",
   "execution_count": 11,
   "metadata": {},
   "outputs": [],
   "source": [
    "mi_poisson = stats.poisson(2000*0.001)"
   ]
  },
  {
   "cell_type": "code",
   "execution_count": 14,
   "metadata": {},
   "outputs": [
    {
     "data": {
      "text/plain": [
       "0.2706705664732254"
      ]
     },
     "execution_count": 14,
     "metadata": {},
     "output_type": "execute_result"
    }
   ],
   "source": [
    "mi_poisson.pmf(2)"
   ]
  },
  {
   "cell_type": "code",
   "execution_count": 63,
   "metadata": {},
   "outputs": [
    {
     "data": {
      "text/plain": [
       "0.593994150290162"
      ]
     },
     "execution_count": 63,
     "metadata": {},
     "output_type": "execute_result"
    }
   ],
   "source": [
    "1-mi_poisson.cdf(1)"
   ]
  },
  {
   "cell_type": "markdown",
   "metadata": {},
   "source": [
    " Una empresa electrónica observa que el número de componentes que fallan en un cierto aparato antes de cumplir 100 horas de funcionamiento es una variable aleatoria de Poisson. Si el número medio de estos fallos es ocho,\n",
    "\n",
    "•¿cual es la probabilidad de que falle un componente en 25 horas?\n",
    "•¿y de que fallen no más de dos componentes en 50 horas?\n",
    "•¿cual es la probabilidad de que fallen al menos diez en 125 horas?"
   ]
  },
  {
   "cell_type": "code",
   "execution_count": 18,
   "metadata": {},
   "outputs": [],
   "source": [
    "comp_poisson = stats.poisson(8)"
   ]
  },
  {
   "cell_type": "code",
   "execution_count": 20,
   "metadata": {},
   "outputs": [
    {
     "data": {
      "text/plain": [
       "8.170490713937856e-07"
      ]
     },
     "execution_count": 20,
     "metadata": {},
     "output_type": "execute_result"
    }
   ],
   "source": [
    "comp_poisson.pmf(25)"
   ]
  },
  {
   "cell_type": "code",
   "execution_count": 21,
   "metadata": {},
   "outputs": [
    {
     "data": {
      "text/plain": [
       "0.2706705664732254"
      ]
     },
     "execution_count": 21,
     "metadata": {},
     "output_type": "execute_result"
    }
   ],
   "source": [
    "comp_poisson = stats.poisson(2)\n",
    "comp_poisson.pmf(1)"
   ]
  },
  {
   "cell_type": "code",
   "execution_count": 22,
   "metadata": {},
   "outputs": [
    {
     "data": {
      "text/plain": [
       "0.23810330555354436"
      ]
     },
     "execution_count": 22,
     "metadata": {},
     "output_type": "execute_result"
    }
   ],
   "source": [
    "comp_poisson = stats.poisson(4)\n",
    "comp_poisson.cdf(2)"
   ]
  },
  {
   "cell_type": "code",
   "execution_count": 23,
   "metadata": {},
   "outputs": [],
   "source": [
    "comp_poisson = stats.poisson(10)"
   ]
  },
  {
   "cell_type": "code",
   "execution_count": 26,
   "metadata": {},
   "outputs": [
    {
     "data": {
      "text/plain": [
       "0.5420702855281476"
      ]
     },
     "execution_count": 26,
     "metadata": {},
     "output_type": "execute_result"
    }
   ],
   "source": [
    "1-comp_poisson.cdf(9)"
   ]
  },
  {
   "cell_type": "code",
   "execution_count": null,
   "metadata": {},
   "outputs": [],
   "source": []
  }
 ],
 "metadata": {
  "kernelspec": {
   "display_name": "Python 3",
   "language": "python",
   "name": "python3"
  },
  "language_info": {
   "codemirror_mode": {
    "name": "ipython",
    "version": 3
   },
   "file_extension": ".py",
   "mimetype": "text/x-python",
   "name": "python",
   "nbconvert_exporter": "python",
   "pygments_lexer": "ipython3",
   "version": "3.7.3"
  }
 },
 "nbformat": 4,
 "nbformat_minor": 2
}
